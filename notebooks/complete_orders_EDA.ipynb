{
 "cells": [
  {
   "cell_type": "code",
   "execution_count": 30,
   "metadata": {},
   "outputs": [],
   "source": [
    "import pandas as pd\n",
    "import matplotlib.pyplot as plt\n",
    "import numpy as np\n",
    "import math\n",
    "import seaborn as sns\n",
    "from datetime import datetime,timedelta\n",
    "import re\n",
    "from geopy.geocoders import Nominatim\n",
    "from geopy import distance\n",
    "import holidays\n",
    "from datetime import datetime,date\n"
   ]
  },
  {
   "cell_type": "code",
   "execution_count": 3,
   "metadata": {},
   "outputs": [],
   "source": [
    "complete_orders=pd.read_csv(\"../data/nb.csv\")\n",
    "delivery_requests=pd.read_csv(\"../data/driver_locations_during_request.csv\")"
   ]
  },
  {
   "cell_type": "markdown",
   "metadata": {},
   "source": [
    "information about the completed orders"
   ]
  },
  {
   "cell_type": "code",
   "execution_count": 33,
   "metadata": {},
   "outputs": [
    {
     "data": {
      "text/plain": [
       "(536020, 5)"
      ]
     },
     "execution_count": 33,
     "metadata": {},
     "output_type": "execute_result"
    }
   ],
   "source": [
    "complete_orders.shape"
   ]
  },
  {
   "cell_type": "code",
   "execution_count": 5,
   "metadata": {},
   "outputs": [
    {
     "name": "stdout",
     "output_type": "stream",
     "text": [
      "<class 'pandas.core.frame.DataFrame'>\n",
      "RangeIndex: 536020 entries, 0 to 536019\n",
      "Data columns (total 5 columns):\n",
      " #   Column            Non-Null Count   Dtype \n",
      "---  ------            --------------   ----- \n",
      " 0   Trip ID           536020 non-null  int64 \n",
      " 1   Trip Origin       536020 non-null  object\n",
      " 2   Trip Destination  536020 non-null  object\n",
      " 3   Trip Start Time   534369 non-null  object\n",
      " 4   Trip End Time     536019 non-null  object\n",
      "dtypes: int64(1), object(4)\n",
      "memory usage: 20.4+ MB\n"
     ]
    }
   ],
   "source": [
    "complete_orders.info()"
   ]
  },
  {
   "cell_type": "code",
   "execution_count": 44,
   "metadata": {},
   "outputs": [
    {
     "data": {
      "text/html": [
       "<div>\n",
       "<style scoped>\n",
       "    .dataframe tbody tr th:only-of-type {\n",
       "        vertical-align: middle;\n",
       "    }\n",
       "\n",
       "    .dataframe tbody tr th {\n",
       "        vertical-align: top;\n",
       "    }\n",
       "\n",
       "    .dataframe thead th {\n",
       "        text-align: right;\n",
       "    }\n",
       "</style>\n",
       "<table border=\"1\" class=\"dataframe\">\n",
       "  <thead>\n",
       "    <tr style=\"text-align: right;\">\n",
       "      <th></th>\n",
       "      <th>Unique %</th>\n",
       "    </tr>\n",
       "  </thead>\n",
       "  <tbody>\n",
       "    <tr>\n",
       "      <th>Trip ID</th>\n",
       "      <td>100.00</td>\n",
       "    </tr>\n",
       "    <tr>\n",
       "      <th>Trip Origin</th>\n",
       "      <td>20.92</td>\n",
       "    </tr>\n",
       "    <tr>\n",
       "      <th>Trip Destination</th>\n",
       "      <td>27.52</td>\n",
       "    </tr>\n",
       "    <tr>\n",
       "      <th>Trip Start Time</th>\n",
       "      <td>95.62</td>\n",
       "    </tr>\n",
       "    <tr>\n",
       "      <th>Trip End Time</th>\n",
       "      <td>95.86</td>\n",
       "    </tr>\n",
       "  </tbody>\n",
       "</table>\n",
       "</div>"
      ],
      "text/plain": [
       "                  Unique %\n",
       "Trip ID             100.00\n",
       "Trip Origin          20.92\n",
       "Trip Destination     27.52\n",
       "Trip Start Time      95.62\n",
       "Trip End Time        95.86"
      ]
     },
     "execution_count": 44,
     "metadata": {},
     "output_type": "execute_result"
    }
   ],
   "source": [
    "percentage = round(complete_orders.nunique()*100/complete_orders.shape[0],2)\n",
    "percentage_df=pd.DataFrame(percentage,columns=[\"Unique %\"])\n",
    "percentage_df.head()"
   ]
  },
  {
   "cell_type": "code",
   "execution_count": 54,
   "metadata": {},
   "outputs": [
    {
     "data": {
      "image/png": "[encoded data removed]",
      "text/plain": [
       "<Figure size 640x480 with 1 Axes>"
      ]
     },
     "metadata": {},
     "output_type": "display_data"
    }
   ],
   "source": [
    "percentage_df.plot(kind='bar',rot=20,grid=True,legend=False)\n",
    "plt.show()"
   ]
  },
  {
   "cell_type": "code",
   "execution_count": 20,
   "metadata": {},
   "outputs": [
    {
     "data": {
      "text/plain": [
       "Trip ID                0\n",
       "Trip Origin            0\n",
       "Trip Destination       0\n",
       "Trip Start Time     1651\n",
       "Trip End Time          1\n",
       "dtype: int64"
      ]
     },
     "execution_count": 20,
     "metadata": {},
     "output_type": "execute_result"
    }
   ],
   "source": [
    "complete_orders.isna().sum()"
   ]
  },
  {
   "cell_type": "markdown",
   "metadata": {},
   "source": [
    "We only have one missing value for Trip End Time, let's check if Trip Start Time is also null for that specific record"
   ]
  },
  {
   "cell_type": "code",
   "execution_count": 8,
   "metadata": {},
   "outputs": [
    {
     "data": {
      "text/html": [
       "<div>\n",
       "<style scoped>\n",
       "    .dataframe tbody tr th:only-of-type {\n",
       "        vertical-align: middle;\n",
       "    }\n",
       "\n",
       "    .dataframe tbody tr th {\n",
       "        vertical-align: top;\n",
       "    }\n",
       "\n",
       "    .dataframe thead th {\n",
       "        text-align: right;\n",
       "    }\n",
       "</style>\n",
       "<table border=\"1\" class=\"dataframe\">\n",
       "  <thead>\n",
       "    <tr style=\"text-align: right;\">\n",
       "      <th></th>\n",
       "      <th>Trip ID</th>\n",
       "      <th>Trip Origin</th>\n",
       "      <th>Trip Destination</th>\n",
       "      <th>Trip Start Time</th>\n",
       "      <th>Trip End Time</th>\n",
       "    </tr>\n",
       "  </thead>\n",
       "  <tbody>\n",
       "    <tr>\n",
       "      <th>59737</th>\n",
       "      <td>530900</td>\n",
       "      <td>6.4971445,3.3384259</td>\n",
       "      <td>6.529695343361617,3.386906603181526</td>\n",
       "      <td>2021-07-22 19:54:15</td>\n",
       "      <td>NaN</td>\n",
       "    </tr>\n",
       "  </tbody>\n",
       "</table>\n",
       "</div>"
      ],
      "text/plain": [
       "       Trip ID          Trip Origin                     Trip Destination  \\\n",
       "59737   530900  6.4971445,3.3384259  6.529695343361617,3.386906603181526   \n",
       "\n",
       "           Trip Start Time Trip End Time  \n",
       "59737  2021-07-22 19:54:15           NaN  "
      ]
     },
     "execution_count": 8,
     "metadata": {},
     "output_type": "execute_result"
    }
   ],
   "source": [
    "complete_orders[complete_orders[\"Trip End Time\"].isna()]"
   ]
  },
  {
   "cell_type": "markdown",
   "metadata": {},
   "source": [
    "since we have the Trip start time value, we can use average trip duration to fill the missing values (fro both start & end time)"
   ]
  },
  {
   "cell_type": "code",
   "execution_count": 4,
   "metadata": {},
   "outputs": [],
   "source": [
    "# First we have to change the columns to appropriate datatype : date\n",
    "\n",
    "def change_to_date(df:pd.DataFrame,columns:list):\n",
    "    for column in columns:\n",
    "        df[column] = pd.to_datetime(df[column])\n",
    "    return df"
   ]
  },
  {
   "cell_type": "code",
   "execution_count": 5,
   "metadata": {},
   "outputs": [],
   "source": [
    "def calculate_duration(df:pd.DataFrame,start_col_name,end_col_name):\n",
    "    df[\"duration\"]= (df[end_col_name] - df[start_col_name]).astype('timedelta64[m]')\n",
    "    return df"
   ]
  },
  {
   "cell_type": "code",
   "execution_count": 6,
   "metadata": {},
   "outputs": [
    {
     "name": "stdout",
     "output_type": "stream",
     "text": [
      "<class 'pandas.core.frame.DataFrame'>\n",
      "RangeIndex: 536020 entries, 0 to 536019\n",
      "Data columns (total 5 columns):\n",
      " #   Column            Non-Null Count   Dtype         \n",
      "---  ------            --------------   -----         \n",
      " 0   Trip ID           536020 non-null  int64         \n",
      " 1   Trip Origin       536020 non-null  object        \n",
      " 2   Trip Destination  536020 non-null  object        \n",
      " 3   Trip Start Time   534369 non-null  datetime64[ns]\n",
      " 4   Trip End Time     536019 non-null  datetime64[ns]\n",
      "dtypes: datetime64[ns](2), int64(1), object(2)\n",
      "memory usage: 20.4+ MB\n"
     ]
    }
   ],
   "source": [
    "complete_orders_correct_format=complete_orders.copy()\n",
    "complete_orders_correct_format=change_to_date(complete_orders_correct_format,[\"Trip Start Time\",\"Trip End Time\"])\n",
    "complete_orders_correct_format.info()"
   ]
  },
  {
   "cell_type": "code",
   "execution_count": 7,
   "metadata": {},
   "outputs": [
    {
     "data": {
      "text/plain": [
       "Trip ID                0\n",
       "Trip Origin            0\n",
       "Trip Destination       0\n",
       "Trip Start Time     1651\n",
       "Trip End Time          1\n",
       "duration            1652\n",
       "dtype: int64"
      ]
     },
     "execution_count": 7,
     "metadata": {},
     "output_type": "execute_result"
    }
   ],
   "source": [
    "complete_orders_correct_format=calculate_duration(complete_orders_correct_format,\"Trip Start Time\",\"Trip End Time\")\n",
    "complete_orders_correct_format.isna().sum()"
   ]
  },
  {
   "cell_type": "code",
   "execution_count": 13,
   "metadata": {},
   "outputs": [
    {
     "data": {
      "image/png": "[encoded data removed]",
      "text/plain": [
       "<Figure size 640x480 with 1 Axes>"
      ]
     },
     "metadata": {},
     "output_type": "display_data"
    }
   ],
   "source": [
    "complete_orders_correct_format[[\"duration\"]].plot.hist(bins=10, range=(0,350))\n",
    "plt.show()"
   ]
  },
  {
   "cell_type": "markdown",
   "metadata": {},
   "source": [
    "### Fill missing data\n",
    "\n",
    "- numerical columns can be filled with either median or mean\n",
    "\n",
    "- for numerical columns the decision to use which method will be determined by observing the skewness of the data\n",
    "- When the data is skewed, it is good to consider using the median value for replacing the missing values. Note that imputing missing data with median value can only be done with numerical data.\n",
    "    - checking for skew\n",
    "    - 0 means No skew\n",
    "    - +ve value means right skew\n",
    "    - -ve value means left skew\n",
    "- we have seen that duration is right skewed so we will use median"
   ]
  },
  {
   "cell_type": "code",
   "execution_count": 8,
   "metadata": {},
   "outputs": [],
   "source": [
    "def fill_missing(df: pd.DataFrame, method: str,columns: list) -> pd.DataFrame:\n",
    "        \"\"\"\n",
    "        fill missing values with specified method\n",
    "        \"\"\"\n",
    "        if method == \"mean\":\n",
    "            for col in columns:\n",
    "                df[col].fillna(df[col].mean(), inplace=True)\n",
    "\n",
    "        elif method == \"median\":\n",
    "            for col in columns:\n",
    "                df[col].fillna(df[col].median(), inplace=True)\n",
    "        else:\n",
    "            print(\"Method unknown\")\n",
    "        \n",
    "        return df"
   ]
  },
  {
   "cell_type": "code",
   "execution_count": 9,
   "metadata": {},
   "outputs": [
    {
     "name": "stdout",
     "output_type": "stream",
     "text": [
      "<class 'pandas.core.frame.DataFrame'>\n",
      "RangeIndex: 536020 entries, 0 to 536019\n",
      "Data columns (total 6 columns):\n",
      " #   Column            Non-Null Count   Dtype         \n",
      "---  ------            --------------   -----         \n",
      " 0   Trip ID           536020 non-null  int64         \n",
      " 1   Trip Origin       536020 non-null  object        \n",
      " 2   Trip Destination  536020 non-null  object        \n",
      " 3   Trip Start Time   534369 non-null  datetime64[ns]\n",
      " 4   Trip End Time     536019 non-null  datetime64[ns]\n",
      " 5   duration          536020 non-null  float64       \n",
      "dtypes: datetime64[ns](2), float64(1), int64(1), object(2)\n",
      "memory usage: 24.5+ MB\n"
     ]
    }
   ],
   "source": [
    "complete_cleaned = complete_orders_correct_format.copy()\n",
    "complete_cleaned = fill_missing(complete_cleaned,\"median\",[\"duration\"])\n",
    "complete_cleaned.info()"
   ]
  },
  {
   "cell_type": "markdown",
   "metadata": {},
   "source": [
    "now we have no null values in the duration\n",
    "\n",
    "we can reverse engineer the start time and end time"
   ]
  },
  {
   "cell_type": "code",
   "execution_count": 10,
   "metadata": {},
   "outputs": [],
   "source": [
    "def get_start_time(df:pd.DataFrame,start_col:str,end_col:str,duration_col):\n",
    "    fill_values=  df.apply(lambda x:x[end_col] - pd.Timedelta(minutes=x[duration_col]),axis=1)\n",
    "    # return fill_values\n",
    "    df[start_col].fillna(fill_values,inplace=True)\n",
    "    return df \n",
    "\n",
    "def get_end_time(df:pd.DataFrame,start_col:str,end_col:str,duration_col):\n",
    "    fill_values=  df.apply(lambda x:x[start_col] + pd.Timedelta(minutes=x[duration_col]),axis=1)\n",
    "    # return fill_values\n",
    "    df[end_col].fillna(fill_values,inplace=True)\n",
    "    return df "
   ]
  },
  {
   "cell_type": "code",
   "execution_count": 11,
   "metadata": {},
   "outputs": [
    {
     "data": {
      "text/plain": [
       "Trip ID             0\n",
       "Trip Origin         0\n",
       "Trip Destination    0\n",
       "Trip Start Time     0\n",
       "Trip End Time       0\n",
       "duration            0\n",
       "dtype: int64"
      ]
     },
     "execution_count": 11,
     "metadata": {},
     "output_type": "execute_result"
    }
   ],
   "source": [
    "complete_cleaned = get_start_time(complete_cleaned,\"Trip Start Time\",\"Trip End Time\",\"duration\")\n",
    "complete_cleaned = get_end_time(complete_cleaned,\"Trip Start Time\",\"Trip End Time\",\"duration\")\n",
    "complete_cleaned.isna().sum()"
   ]
  },
  {
   "cell_type": "code",
   "execution_count": 11,
   "metadata": {},
   "outputs": [
    {
     "data": {
      "text/html": [
       "<div>\n",
       "<style scoped>\n",
       "    .dataframe tbody tr th:only-of-type {\n",
       "        vertical-align: middle;\n",
       "    }\n",
       "\n",
       "    .dataframe tbody tr th {\n",
       "        vertical-align: top;\n",
       "    }\n",
       "\n",
       "    .dataframe thead th {\n",
       "        text-align: right;\n",
       "    }\n",
       "</style>\n",
       "<table border=\"1\" class=\"dataframe\">\n",
       "  <thead>\n",
       "    <tr style=\"text-align: right;\">\n",
       "      <th></th>\n",
       "      <th>Trip ID</th>\n",
       "      <th>Trip Origin</th>\n",
       "      <th>Trip Destination</th>\n",
       "      <th>Trip Start Time</th>\n",
       "      <th>Trip End Time</th>\n",
       "      <th>duration</th>\n",
       "    </tr>\n",
       "  </thead>\n",
       "  <tbody>\n",
       "    <tr>\n",
       "      <th>59737</th>\n",
       "      <td>530900</td>\n",
       "      <td>6.4971445,3.3384259</td>\n",
       "      <td>6.529695343361617,3.386906603181526</td>\n",
       "      <td>2021-07-22 19:54:15</td>\n",
       "      <td>2021-07-22 20:46:15</td>\n",
       "      <td>52.0</td>\n",
       "    </tr>\n",
       "  </tbody>\n",
       "</table>\n",
       "</div>"
      ],
      "text/plain": [
       "       Trip ID          Trip Origin                     Trip Destination  \\\n",
       "59737   530900  6.4971445,3.3384259  6.529695343361617,3.386906603181526   \n",
       "\n",
       "          Trip Start Time       Trip End Time  duration  \n",
       "59737 2021-07-22 19:54:15 2021-07-22 20:46:15      52.0  "
      ]
     },
     "execution_count": 11,
     "metadata": {},
     "output_type": "execute_result"
    }
   ],
   "source": [
    "# id 530900 had null value for trip end time\n",
    "complete_cleaned[complete_cleaned[\"Trip ID\"]==530900]"
   ]
  },
  {
   "cell_type": "code",
   "execution_count": 12,
   "metadata": {},
   "outputs": [],
   "source": [
    "def remove_space(df:pd.DataFrame):\n",
    "    columns = df.columns\n",
    "    for col in columns:\n",
    "        no_space=re.sub(' +', '_', col.lower().strip())\n",
    "        df.rename(columns={col:no_space},inplace=True)\n",
    "    return df"
   ]
  },
  {
   "cell_type": "code",
   "execution_count": 13,
   "metadata": {},
   "outputs": [
    {
     "data": {
      "text/plain": [
       "Index(['trip_id', 'trip_origin', 'trip_destination', 'trip_start_time',\n",
       "       'trip_end_time', 'duration'],\n",
       "      dtype='object')"
      ]
     },
     "execution_count": 13,
     "metadata": {},
     "output_type": "execute_result"
    }
   ],
   "source": [
    "complete_cleaned=remove_space(complete_cleaned)\n",
    "complete_cleaned.columns\n"
   ]
  },
  {
   "cell_type": "markdown",
   "metadata": {},
   "source": [
    "## Visualizations"
   ]
  },
  {
   "cell_type": "markdown",
   "metadata": {},
   "source": [
    "### trip origin"
   ]
  },
  {
   "cell_type": "code",
   "execution_count": 14,
   "metadata": {},
   "outputs": [],
   "source": [
    "trip_origin=(complete_cleaned.groupby('trip_origin',as_index=False).agg(Count=('trip_id', 'count'))).sort_values(by=\"Count\",ascending=False).reset_index(drop=True)\n",
    "lat = trip_origin[\"trip_origin\"].apply(lambda x:x.split(',')[0])\n",
    "lon = trip_origin[\"trip_origin\"].apply(lambda x:x.split(',')[1])\n",
    "trip_origin['latitude'],trip_origin['longitude']=lat,lon\n",
    "trip_origin.drop(columns=\"trip_origin\",inplace=True)"
   ]
  },
  {
   "cell_type": "code",
   "execution_count": 15,
   "metadata": {},
   "outputs": [],
   "source": [
    "trip_origin['longitude']=trip_origin['longitude'].astype('float')\n",
    "trip_origin['latitude']=trip_origin['latitude'].astype('float')"
   ]
  },
  {
   "cell_type": "code",
   "execution_count": 16,
   "metadata": {},
   "outputs": [],
   "source": [
    "trip_origin_100 = trip_origin.head(100)"
   ]
  },
  {
   "cell_type": "code",
   "execution_count": 143,
   "metadata": {},
   "outputs": [
    {
     "data": {
      "text/html": [
       "<div>\n",
       "<style scoped>\n",
       "    .dataframe tbody tr th:only-of-type {\n",
       "        vertical-align: middle;\n",
       "    }\n",
       "\n",
       "    .dataframe tbody tr th {\n",
       "        vertical-align: top;\n",
       "    }\n",
       "\n",
       "    .dataframe thead th {\n",
       "        text-align: right;\n",
       "    }\n",
       "</style>\n",
       "<table border=\"1\" class=\"dataframe\">\n",
       "  <thead>\n",
       "    <tr style=\"text-align: right;\">\n",
       "      <th></th>\n",
       "      <th>Count</th>\n",
       "      <th>latitude</th>\n",
       "      <th>longitude</th>\n",
       "    </tr>\n",
       "  </thead>\n",
       "  <tbody>\n",
       "    <tr>\n",
       "      <th>0</th>\n",
       "      <td>888</td>\n",
       "      <td>6.613793</td>\n",
       "      <td>3.357997</td>\n",
       "    </tr>\n",
       "    <tr>\n",
       "      <th>1</th>\n",
       "      <td>668</td>\n",
       "      <td>6.462727</td>\n",
       "      <td>3.556790</td>\n",
       "    </tr>\n",
       "    <tr>\n",
       "      <th>2</th>\n",
       "      <td>576</td>\n",
       "      <td>6.429360</td>\n",
       "      <td>3.433497</td>\n",
       "    </tr>\n",
       "    <tr>\n",
       "      <th>3</th>\n",
       "      <td>544</td>\n",
       "      <td>6.428631</td>\n",
       "      <td>3.515512</td>\n",
       "    </tr>\n",
       "    <tr>\n",
       "      <th>4</th>\n",
       "      <td>543</td>\n",
       "      <td>6.443119</td>\n",
       "      <td>3.481437</td>\n",
       "    </tr>\n",
       "    <tr>\n",
       "      <th>...</th>\n",
       "      <td>...</td>\n",
       "      <td>...</td>\n",
       "      <td>...</td>\n",
       "    </tr>\n",
       "    <tr>\n",
       "      <th>95</th>\n",
       "      <td>209</td>\n",
       "      <td>6.594754</td>\n",
       "      <td>3.338827</td>\n",
       "    </tr>\n",
       "    <tr>\n",
       "      <th>96</th>\n",
       "      <td>209</td>\n",
       "      <td>6.599641</td>\n",
       "      <td>3.352150</td>\n",
       "    </tr>\n",
       "    <tr>\n",
       "      <th>97</th>\n",
       "      <td>206</td>\n",
       "      <td>6.433467</td>\n",
       "      <td>3.518800</td>\n",
       "    </tr>\n",
       "    <tr>\n",
       "      <th>98</th>\n",
       "      <td>206</td>\n",
       "      <td>6.451611</td>\n",
       "      <td>3.513423</td>\n",
       "    </tr>\n",
       "    <tr>\n",
       "      <th>99</th>\n",
       "      <td>206</td>\n",
       "      <td>6.585889</td>\n",
       "      <td>3.380861</td>\n",
       "    </tr>\n",
       "  </tbody>\n",
       "</table>\n",
       "<p>100 rows × 3 columns</p>\n",
       "</div>"
      ],
      "text/plain": [
       "    Count  latitude  longitude\n",
       "0     888  6.613793   3.357997\n",
       "1     668  6.462727   3.556790\n",
       "2     576  6.429360   3.433497\n",
       "3     544  6.428631   3.515512\n",
       "4     543  6.443119   3.481437\n",
       "..    ...       ...        ...\n",
       "95    209  6.594754   3.338827\n",
       "96    209  6.599641   3.352150\n",
       "97    206  6.433467   3.518800\n",
       "98    206  6.451611   3.513423\n",
       "99    206  6.585889   3.380861\n",
       "\n",
       "[100 rows x 3 columns]"
      ]
     },
     "execution_count": 143,
     "metadata": {},
     "output_type": "execute_result"
    }
   ],
   "source": [
    "trip_origin_100"
   ]
  },
  {
   "cell_type": "code",
   "execution_count": 139,
   "metadata": {},
   "outputs": [
    {
     "data": {
      "application/vnd.plotly.v1+json": {
       "config": {
        "plotlyServerURL": "https://plot.ly"
       },
       "data": [
        {
         "hovertemplate": "<b>%{hovertext}</b><br><br>Count=%{marker.color}<br>latitude=%{lat}<br>longitude=%{lon}<extra></extra>",
         "hovertext": [
          888,
          668,
          576,
          544,
          543,
          538,
          538,
          522,
          520,
          514,
          512,
          503,
          499,
          473,
          472,
          469,
          450,
          447,
          441,
          433,
          411,
          407,
          401,
          399,
          397,
          385,
          380,
          374,
          371,
          365,
          359,
          347,
          334,
          334,
          330,
          328,
          323,
          320,
          314,
          311,
          304,
          304,
          298,
          295,
          294,
          293,
          290,
          283,
          282,
          281,
          280,
          275,
          271,
          267,
          267,
          265,
          263,
          263,
          262,
          262,
          261,
          260,
          258,
          258,
          253,
          251,
          249,
          246,
          241,
          241,
          235,
          235,
          233,
          232,
          231,
          230,
          228,
          228,
          227,
          224,
          222,
          220,
          220,
          219,
          219,
          217,
          217,
          215,
          215,
          214,
          213,
          212,
          212,
          211,
          209,
          209,
          209,
          206,
          206,
          206
         ],
         "lat": [
          6.6137933,
          6.462727,
          6.4293597,
          6.4286308,
          6.4431192,
          6.622069799999999,
          6.4440858,
          6.5952581,
          6.452345299999999,
          6.4372969,
          6.497595,
          6.4264002,
          6.4239727,
          6.4358466,
          6.430837599999999,
          6.4435353,
          6.628178999999999,
          7.438786400000001,
          6.5365443,
          6.591750800000001,
          6.4283803,
          6.437225100000001,
          6.429448,
          6.593754199999999,
          6.630266099999999,
          6.61427957531624,
          6.439023799999999,
          6.4567308,
          6.443280157255331,
          6.437225499999999,
          6.608579799999998,
          6.4683375,
          6.5580124,
          6.444646000000001,
          6.4518355,
          6.4481871,
          6.614562899999999,
          6.448969300000001,
          6.431119600000001,
          6.4357545,
          7.417378100000001,
          6.508679,
          6.429787600000001,
          6.442932799999999,
          6.4481455,
          6.6070099,
          6.4401825419797,
          6.444657299999999,
          6.56396439999999,
          6.5950083,
          6.459752,
          6.459219999999999,
          6.441922500000001,
          6.4700381,
          6.4390214,
          6.4240907,
          6.442239,
          6.595464100000001,
          6.594354099999999,
          6.445972599999998,
          6.626373399999999,
          6.505807099999999,
          6.597663491230034,
          6.621974827727869,
          6.553579,
          7.4000932,
          6.4538729,
          6.527439999999999,
          6.5962459,
          6.5530741,
          6.432605499999999,
          6.5897842,
          6.452395150945204,
          6.446528,
          6.441837,
          6.4388733,
          6.496445,
          6.4306252,
          6.4544013976651,
          6.517952699999999,
          6.5430189,
          7.4165074,
          6.5963213,
          6.443295,
          6.443120299999999,
          6.4517557,
          6.428185099999999,
          6.4544541,
          6.508470399999999,
          6.435194899999999,
          6.4466664,
          6.4491768,
          6.431335799999998,
          6.469875,
          6.668217,
          6.594753656745064,
          6.599641079444024,
          6.4334669,
          6.451610690106281,
          6.5858886
         ],
         "legendgroup": "",
         "lon": [
          3.357997,
          3.55679,
          3.4334968,
          3.5155123,
          3.4814372,
          3.383825,
          3.5080498,
          3.3521434,
          3.527539,
          3.460993199999999,
          3.383098,
          3.4254308,
          3.4892523,
          3.451396,
          3.4124,
          3.4586585,
          3.2849272,
          3.9087722,
          3.3678252,
          3.3610172,
          3.4637313,
          3.4843654,
          3.4165931,
          3.3398694,
          3.343620099999999,
          3.358353514729604,
          3.4863031,
          3.5309404,
          3.481275586546779,
          3.4589093,
          3.34215,
          3.585871599999999,
          3.3696567,
          3.455544,
          3.5137285,
          3.5315251,
          3.3725868,
          3.5231794,
          3.474324,
          3.4516297,
          3.902238899999999,
          3.370116099999999,
          3.5542128,
          3.5301368,
          3.4748584,
          3.3501947,
          3.4766886640267,
          3.5123454,
          3.3673221999999896,
          3.3387924,
          3.1925542,
          3.4688481,
          3.5525527,
          3.2759935,
          3.5441106,
          3.4142436,
          3.5064434,
          3.2779463,
          3.3393389,
          3.4587216,
          3.3651611,
          3.359221,
          3.338111034260862,
          3.3776312135191517,
          3.3654461,
          3.8750262,
          3.389379,
          3.3688811,
          3.3404658,
          3.3892737,
          3.5547071,
          3.3840823,
          3.519818969070912,
          3.5177175,
          3.4171472,
          3.4597424,
          3.3801425,
          3.4513884,
          3.470218207868,
          3.3891871,
          3.373886,
          3.908525999999999,
          3.3412015,
          3.4731769,
          3.4612286,
          3.5186977,
          3.489054,
          3.4046771,
          3.3704258,
          3.5143007,
          3.5132932,
          3.4902436,
          3.5489994,
          3.6185518,
          3.3354912,
          3.33882666574911,
          3.3521499613200945,
          3.5188002,
          3.513422579222761,
          3.3808608
         ],
         "marker": {
          "color": [
           888,
           668,
           576,
           544,
           543,
           538,
           538,
           522,
           520,
           514,
           512,
           503,
           499,
           473,
           472,
           469,
           450,
           447,
           441,
           433,
           411,
           407,
           401,
           399,
           397,
           385,
           380,
           374,
           371,
           365,
           359,
           347,
           334,
           334,
           330,
           328,
           323,
           320,
           314,
           311,
           304,
           304,
           298,
           295,
           294,
           293,
           290,
           283,
           282,
           281,
           280,
           275,
           271,
           267,
           267,
           265,
           263,
           263,
           262,
           262,
           261,
           260,
           258,
           258,
           253,
           251,
           249,
           246,
           241,
           241,
           235,
           235,
           233,
           232,
           231,
           230,
           228,
           228,
           227,
           224,
           222,
           220,
           220,
           219,
           219,
           217,
           217,
           215,
           215,
           214,
           213,
           212,
           212,
           211,
           209,
           209,
           209,
           206,
           206,
           206
          ],
          "coloraxis": "coloraxis",
          "size": [
           888,
           668,
           576,
           544,
           543,
           538,
           538,
           522,
           520,
           514,
           512,
           503,
           499,
           473,
           472,
           469,
           450,
           447,
           441,
           433,
           411,
           407,
           401,
           399,
           397,
           385,
           380,
           374,
           371,
           365,
           359,
           347,
           334,
           334,
           330,
           328,
           323,
           320,
           314,
           311,
           304,
           304,
           298,
           295,
           294,
           293,
           290,
           283,
           282,
           281,
           280,
           275,
           271,
           267,
           267,
           265,
           263,
           263,
           262,
           262,
           261,
           260,
           258,
           258,
           253,
           251,
           249,
           246,
           241,
           241,
           235,
           235,
           233,
           232,
           231,
           230,
           228,
           228,
           227,
           224,
           222,
           220,
           220,
           219,
           219,
           217,
           217,
           215,
           215,
           214,
           213,
           212,
           212,
           211,
           209,
           209,
           209,
           206,
           206,
           206
          ],
          "sizemode": "area",
          "sizeref": 2.22
         },
         "mode": "markers",
         "name": "",
         "showlegend": false,
         "subplot": "mapbox",
         "type": "scattermapbox"
        }
       ],
       "layout": {
        "coloraxis": {
         "colorbar": {
          "title": {
           "text": "Count"
          }
         },
         "colorscale": [
          [
           0,
           "#0d0887"
          ],
          [
           0.1111111111111111,
           "#46039f"
          ],
          [
           0.2222222222222222,
           "#7201a8"
          ],
          [
           0.3333333333333333,
           "#9c179e"
          ],
          [
           0.4444444444444444,
           "#bd3786"
          ],
          [
           0.5555555555555556,
           "#d8576b"
          ],
          [
           0.6666666666666666,
           "#ed7953"
          ],
          [
           0.7777777777777778,
           "#fb9f3a"
          ],
          [
           0.8888888888888888,
           "#fdca26"
          ],
          [
           1,
           "#f0f921"
          ]
         ]
        },
        "height": 600,
        "legend": {
         "itemsizing": "constant",
         "tracegroupgap": 0
        },
        "mapbox": {
         "center": {
          "lat": 6.532600982684148,
          "lon": 3.4519093899631397
         },
         "domain": {
          "x": [
           0,
           1
          ],
          "y": [
           0,
           1
          ]
         },
         "style": "stamen-terrain",
         "zoom": 8
        },
        "margin": {
         "b": 0,
         "l": 0,
         "r": 0,
         "t": 0
        },
        "template": {
         "data": {
          "bar": [
           {
            "error_x": {
             "color": "#2a3f5f"
            },
            "error_y": {
             "color": "#2a3f5f"
            },
            "marker": {
             "line": {
              "color": "#E5ECF6",
              "width": 0.5
             },
             "pattern": {
              "fillmode": "overlay",
              "size": 10,
              "solidity": 0.2
             }
            },
            "type": "bar"
           }
          ],
          "barpolar": [
           {
            "marker": {
             "line": {
              "color": "#E5ECF6",
              "width": 0.5
             },
             "pattern": {
              "fillmode": "overlay",
              "size": 10,
              "solidity": 0.2
             }
            },
            "type": "barpolar"
           }
          ],
          "carpet": [
           {
            "aaxis": {
             "endlinecolor": "#2a3f5f",
             "gridcolor": "white",
             "linecolor": "white",
             "minorgridcolor": "white",
             "startlinecolor": "#2a3f5f"
            },
            "baxis": {
             "endlinecolor": "#2a3f5f",
             "gridcolor": "white",
             "linecolor": "white",
             "minorgridcolor": "white",
             "startlinecolor": "#2a3f5f"
            },
            "type": "carpet"
           }
          ],
          "choropleth": [
           {
            "colorbar": {
             "outlinewidth": 0,
             "ticks": ""
            },
            "type": "choropleth"
           }
          ],
          "contour": [
           {
            "colorbar": {
             "outlinewidth": 0,
             "ticks": ""
            },
            "colorscale": [
             [
              0,
              "#0d0887"
             ],
             [
              0.1111111111111111,
              "#46039f"
             ],
             [
              0.2222222222222222,
              "#7201a8"
             ],
             [
              0.3333333333333333,
              "#9c179e"
             ],
             [
              0.4444444444444444,
              "#bd3786"
             ],
             [
              0.5555555555555556,
              "#d8576b"
             ],
             [
              0.6666666666666666,
              "#ed7953"
             ],
             [
              0.7777777777777778,
              "#fb9f3a"
             ],
             [
              0.8888888888888888,
              "#fdca26"
             ],
             [
              1,
              "#f0f921"
             ]
            ],
            "type": "contour"
           }
          ],
          "contourcarpet": [
           {
            "colorbar": {
             "outlinewidth": 0,
             "ticks": ""
            },
            "type": "contourcarpet"
           }
          ],
          "heatmap": [
           {
            "colorbar": {
             "outlinewidth": 0,
             "ticks": ""
            },
            "colorscale": [
             [
              0,
              "#0d0887"
             ],
             [
              0.1111111111111111,
              "#46039f"
             ],
             [
              0.2222222222222222,
              "#7201a8"
             ],
             [
              0.3333333333333333,
              "#9c179e"
             ],
             [
              0.4444444444444444,
              "#bd3786"
             ],
             [
              0.5555555555555556,
              "#d8576b"
             ],
             [
              0.6666666666666666,
              "#ed7953"
             ],
             [
              0.7777777777777778,
              "#fb9f3a"
             ],
             [
              0.8888888888888888,
              "#fdca26"
             ],
             [
              1,
              "#f0f921"
             ]
            ],
            "type": "heatmap"
           }
          ],
          "heatmapgl": [
           {
            "colorbar": {
             "outlinewidth": 0,
             "ticks": ""
            },
            "colorscale": [
             [
              0,
              "#0d0887"
             ],
             [
              0.1111111111111111,
              "#46039f"
             ],
             [
              0.2222222222222222,
              "#7201a8"
             ],
             [
              0.3333333333333333,
              "#9c179e"
             ],
             [
              0.4444444444444444,
              "#bd3786"
             ],
             [
              0.5555555555555556,
              "#d8576b"
             ],
             [
              0.6666666666666666,
              "#ed7953"
             ],
             [
              0.7777777777777778,
              "#fb9f3a"
             ],
             [
              0.8888888888888888,
              "#fdca26"
             ],
             [
              1,
              "#f0f921"
             ]
            ],
            "type": "heatmapgl"
           }
          ],
          "histogram": [
           {
            "marker": {
             "pattern": {
              "fillmode": "overlay",
              "size": 10,
              "solidity": 0.2
             }
            },
            "type": "histogram"
           }
          ],
          "histogram2d": [
           {
            "colorbar": {
             "outlinewidth": 0,
             "ticks": ""
            },
            "colorscale": [
             [
              0,
              "#0d0887"
             ],
             [
              0.1111111111111111,
              "#46039f"
             ],
             [
              0.2222222222222222,
              "#7201a8"
             ],
             [
              0.3333333333333333,
              "#9c179e"
             ],
             [
              0.4444444444444444,
              "#bd3786"
             ],
             [
              0.5555555555555556,
              "#d8576b"
             ],
             [
              0.6666666666666666,
              "#ed7953"
             ],
             [
              0.7777777777777778,
              "#fb9f3a"
             ],
             [
              0.8888888888888888,
              "#fdca26"
             ],
             [
              1,
              "#f0f921"
             ]
            ],
            "type": "histogram2d"
           }
          ],
          "histogram2dcontour": [
           {
            "colorbar": {
             "outlinewidth": 0,
             "ticks": ""
            },
            "colorscale": [
             [
              0,
              "#0d0887"
             ],
             [
              0.1111111111111111,
              "#46039f"
             ],
             [
              0.2222222222222222,
              "#7201a8"
             ],
             [
              0.3333333333333333,
              "#9c179e"
             ],
             [
              0.4444444444444444,
              "#bd3786"
             ],
             [
              0.5555555555555556,
              "#d8576b"
             ],
             [
              0.6666666666666666,
              "#ed7953"
             ],
             [
              0.7777777777777778,
              "#fb9f3a"
             ],
             [
              0.8888888888888888,
              "#fdca26"
             ],
             [
              1,
              "#f0f921"
             ]
            ],
            "type": "histogram2dcontour"
           }
          ],
          "mesh3d": [
           {
            "colorbar": {
             "outlinewidth": 0,
             "ticks": ""
            },
            "type": "mesh3d"
           }
          ],
          "parcoords": [
           {
            "line": {
             "colorbar": {
              "outlinewidth": 0,
              "ticks": ""
             }
            },
            "type": "parcoords"
           }
          ],
          "pie": [
           {
            "automargin": true,
            "type": "pie"
           }
          ],
          "scatter": [
           {
            "fillpattern": {
             "fillmode": "overlay",
             "size": 10,
             "solidity": 0.2
            },
            "type": "scatter"
           }
          ],
          "scatter3d": [
           {
            "line": {
             "colorbar": {
              "outlinewidth": 0,
              "ticks": ""
             }
            },
            "marker": {
             "colorbar": {
              "outlinewidth": 0,
              "ticks": ""
             }
            },
            "type": "scatter3d"
           }
          ],
          "scattercarpet": [
           {
            "marker": {
             "colorbar": {
              "outlinewidth": 0,
              "ticks": ""
             }
            },
            "type": "scattercarpet"
           }
          ],
          "scattergeo": [
           {
            "marker": {
             "colorbar": {
              "outlinewidth": 0,
              "ticks": ""
             }
            },
            "type": "scattergeo"
           }
          ],
          "scattergl": [
           {
            "marker": {
             "colorbar": {
              "outlinewidth": 0,
              "ticks": ""
             }
            },
            "type": "scattergl"
           }
          ],
          "scattermapbox": [
           {
            "marker": {
             "colorbar": {
              "outlinewidth": 0,
              "ticks": ""
             }
            },
            "type": "scattermapbox"
           }
          ],
          "scatterpolar": [
           {
            "marker": {
             "colorbar": {
              "outlinewidth": 0,
              "ticks": ""
             }
            },
            "type": "scatterpolar"
           }
          ],
          "scatterpolargl": [
           {
            "marker": {
             "colorbar": {
              "outlinewidth": 0,
              "ticks": ""
             }
            },
            "type": "scatterpolargl"
           }
          ],
          "scatterternary": [
           {
            "marker": {
             "colorbar": {
              "outlinewidth": 0,
              "ticks": ""
             }
            },
            "type": "scatterternary"
           }
          ],
          "surface": [
           {
            "colorbar": {
             "outlinewidth": 0,
             "ticks": ""
            },
            "colorscale": [
             [
              0,
              "#0d0887"
             ],
             [
              0.1111111111111111,
              "#46039f"
             ],
             [
              0.2222222222222222,
              "#7201a8"
             ],
             [
              0.3333333333333333,
              "#9c179e"
             ],
             [
              0.4444444444444444,
              "#bd3786"
             ],
             [
              0.5555555555555556,
              "#d8576b"
             ],
             [
              0.6666666666666666,
              "#ed7953"
             ],
             [
              0.7777777777777778,
              "#fb9f3a"
             ],
             [
              0.8888888888888888,
              "#fdca26"
             ],
             [
              1,
              "#f0f921"
             ]
            ],
            "type": "surface"
           }
          ],
          "table": [
           {
            "cells": {
             "fill": {
              "color": "#EBF0F8"
             },
             "line": {
              "color": "white"
             }
            },
            "header": {
             "fill": {
              "color": "#C8D4E3"
             },
             "line": {
              "color": "white"
             }
            },
            "type": "table"
           }
          ]
         },
         "layout": {
          "annotationdefaults": {
           "arrowcolor": "#2a3f5f",
           "arrowhead": 0,
           "arrowwidth": 1
          },
          "autotypenumbers": "strict",
          "coloraxis": {
           "colorbar": {
            "outlinewidth": 0,
            "ticks": ""
           }
          },
          "colorscale": {
           "diverging": [
            [
             0,
             "#8e0152"
            ],
            [
             0.1,
             "#c51b7d"
            ],
            [
             0.2,
             "#de77ae"
            ],
            [
             0.3,
             "#f1b6da"
            ],
            [
             0.4,
             "#fde0ef"
            ],
            [
             0.5,
             "#f7f7f7"
            ],
            [
             0.6,
             "#e6f5d0"
            ],
            [
             0.7,
             "#b8e186"
            ],
            [
             0.8,
             "#7fbc41"
            ],
            [
             0.9,
             "#4d9221"
            ],
            [
             1,
             "#276419"
            ]
           ],
           "sequential": [
            [
             0,
             "#0d0887"
            ],
            [
             0.1111111111111111,
             "#46039f"
            ],
            [
             0.2222222222222222,
             "#7201a8"
            ],
            [
             0.3333333333333333,
             "#9c179e"
            ],
            [
             0.4444444444444444,
             "#bd3786"
            ],
            [
             0.5555555555555556,
             "#d8576b"
            ],
            [
             0.6666666666666666,
             "#ed7953"
            ],
            [
             0.7777777777777778,
             "#fb9f3a"
            ],
            [
             0.8888888888888888,
             "#fdca26"
            ],
            [
             1,
             "#f0f921"
            ]
           ],
           "sequentialminus": [
            [
             0,
             "#0d0887"
            ],
            [
             0.1111111111111111,
             "#46039f"
            ],
            [
             0.2222222222222222,
             "#7201a8"
            ],
            [
             0.3333333333333333,
             "#9c179e"
            ],
            [
             0.4444444444444444,
             "#bd3786"
            ],
            [
             0.5555555555555556,
             "#d8576b"
            ],
            [
             0.6666666666666666,
             "#ed7953"
            ],
            [
             0.7777777777777778,
             "#fb9f3a"
            ],
            [
             0.8888888888888888,
             "#fdca26"
            ],
            [
             1,
             "#f0f921"
            ]
           ]
          },
          "colorway": [
           "#636efa",
           "#EF553B",
           "#00cc96",
           "#ab63fa",
           "#FFA15A",
           "#19d3f3",
           "#FF6692",
           "#B6E880",
           "#FF97FF",
           "#FECB52"
          ],
          "font": {
           "color": "#2a3f5f"
          },
          "geo": {
           "bgcolor": "white",
           "lakecolor": "white",
           "landcolor": "#E5ECF6",
           "showlakes": true,
           "showland": true,
           "subunitcolor": "white"
          },
          "hoverlabel": {
           "align": "left"
          },
          "hovermode": "closest",
          "mapbox": {
           "style": "light"
          },
          "paper_bgcolor": "white",
          "plot_bgcolor": "#E5ECF6",
          "polar": {
           "angularaxis": {
            "gridcolor": "white",
            "linecolor": "white",
            "ticks": ""
           },
           "bgcolor": "#E5ECF6",
           "radialaxis": {
            "gridcolor": "white",
            "linecolor": "white",
            "ticks": ""
           }
          },
          "scene": {
           "xaxis": {
            "backgroundcolor": "#E5ECF6",
            "gridcolor": "white",
            "gridwidth": 2,
            "linecolor": "white",
            "showbackground": true,
            "ticks": "",
            "zerolinecolor": "white"
           },
           "yaxis": {
            "backgroundcolor": "#E5ECF6",
            "gridcolor": "white",
            "gridwidth": 2,
            "linecolor": "white",
            "showbackground": true,
            "ticks": "",
            "zerolinecolor": "white"
           },
           "zaxis": {
            "backgroundcolor": "#E5ECF6",
            "gridcolor": "white",
            "gridwidth": 2,
            "linecolor": "white",
            "showbackground": true,
            "ticks": "",
            "zerolinecolor": "white"
           }
          },
          "shapedefaults": {
           "line": {
            "color": "#2a3f5f"
           }
          },
          "ternary": {
           "aaxis": {
            "gridcolor": "white",
            "linecolor": "white",
            "ticks": ""
           },
           "baxis": {
            "gridcolor": "white",
            "linecolor": "white",
            "ticks": ""
           },
           "bgcolor": "#E5ECF6",
           "caxis": {
            "gridcolor": "white",
            "linecolor": "white",
            "ticks": ""
           }
          },
          "title": {
           "x": 0.05
          },
          "xaxis": {
           "automargin": true,
           "gridcolor": "white",
           "linecolor": "white",
           "ticks": "",
           "title": {
            "standoff": 15
           },
           "zerolinecolor": "white",
           "zerolinewidth": 2
          },
          "yaxis": {
           "automargin": true,
           "gridcolor": "white",
           "linecolor": "white",
           "ticks": "",
           "title": {
            "standoff": 15
           },
           "zerolinecolor": "white",
           "zerolinewidth": 2
          }
         }
        }
       }
      }
     },
     "metadata": {},
     "output_type": "display_data"
    }
   ],
   "source": [
    "import plotly.express as px\n",
    "\n",
    "fig = px.scatter_mapbox(trip_origin.head(100),lat='latitude',lon='longitude', hover_name=\"Count\",color=\"Count\",height=600,size=\"Count\")\n",
    "# fig.update_layout(title = 'World map', title_x=0.5,geo_scope='africa',margin=dict(l=0, r=0, t=0, b=0))\n",
    "\n",
    "# choose styles -> 'open-street-map', 'white-bg', 'carto-positron', 'carto-darkmatter', 'stamen- terrain', 'stamen-toner', 'stamen-watercolor'\n",
    "fig.update_layout(mapbox_style=\"stamen-terrain\")\n",
    "fig.update_layout(margin={\"r\":0,\"t\":0,\"l\":0,\"b\":0})\n",
    "# fig.show()\n",
    "fig.show()"
   ]
  },
  {
   "cell_type": "code",
   "execution_count": 153,
   "metadata": {},
   "outputs": [
    {
     "name": "stderr",
     "output_type": "stream",
     "text": [
      "C:\\Users\\Natnael\\AppData\\Local\\Temp\\ipykernel_13464\\3623175022.py:2: SettingWithCopyWarning:\n",
      "\n",
      "\n",
      "A value is trying to be set on a copy of a slice from a DataFrame.\n",
      "Try using .loc[row_indexer,col_indexer] = value instead\n",
      "\n",
      "See the caveats in the documentation: https://pandas.pydata.org/pandas-docs/stable/user_guide/indexing.html#returning-a-view-versus-a-copy\n",
      "\n"
     ]
    }
   ],
   "source": [
    "geolocator = Nominatim(user_agent=\"gokada\")\n",
    "trip_origin_100[\"location\"] = trip_origin_100.apply(lambda x:str(geolocator.reverse(str(x[\"latitude\"])+\",\"+str(x[\"longitude\"]))).split(',')[-4],axis=1)"
   ]
  },
  {
   "cell_type": "code",
   "execution_count": 154,
   "metadata": {},
   "outputs": [
    {
     "name": "stderr",
     "output_type": "stream",
     "text": [
      "C:\\Users\\Natnael\\AppData\\Local\\Temp\\ipykernel_13464\\3928029939.py:1: SettingWithCopyWarning:\n",
      "\n",
      "\n",
      "A value is trying to be set on a copy of a slice from a DataFrame.\n",
      "Try using .loc[row_indexer,col_indexer] = value instead\n",
      "\n",
      "See the caveats in the documentation: https://pandas.pydata.org/pandas-docs/stable/user_guide/indexing.html#returning-a-view-versus-a-copy\n",
      "\n"
     ]
    },
    {
     "data": {
      "image/png": "[encoded data removed]",
      "text/plain": [
       "<Figure size 640x480 with 1 Axes>"
      ]
     },
     "metadata": {},
     "output_type": "display_data"
    }
   ],
   "source": [
    "trip_origin_100[\"location\"]=trip_origin_100['location'].apply(lambda x:x.strip())\n",
    "top_locations=trip_origin_100.groupby('location',as_index=False).agg({\"Count\":\"sum\"}).sort_values(by=\"Count\",ascending=False)\n",
    "\n",
    "\n",
    "\n",
    "top_locations.set_index(\"location\",inplace=True)\n",
    "top_locations.plot(kind='bar')\n",
    "plt.show()"
   ]
  },
  {
   "cell_type": "markdown",
   "metadata": {},
   "source": [
    "### trip destination"
   ]
  },
  {
   "cell_type": "code",
   "execution_count": 17,
   "metadata": {},
   "outputs": [],
   "source": [
    "trip_dest=(complete_cleaned.groupby('trip_destination',as_index=False).agg(Count=('trip_id', 'count'))).sort_values(by=\"Count\",ascending=False).reset_index(drop=True)\n",
    "lat = trip_dest[\"trip_destination\"].apply(lambda x:x.split(',')[0])\n",
    "lon = trip_dest[\"trip_destination\"].apply(lambda x:x.split(',')[1])\n",
    "trip_dest['latitude'],trip_dest['longitude']=lat,lon\n",
    "trip_dest.drop(columns=\"trip_destination\",inplace=True)"
   ]
  },
  {
   "cell_type": "code",
   "execution_count": 18,
   "metadata": {},
   "outputs": [],
   "source": [
    "trip_dest['longitude']=trip_dest['longitude'].astype('float')\n",
    "trip_dest['latitude']=trip_dest['latitude'].astype('float')"
   ]
  },
  {
   "cell_type": "code",
   "execution_count": 19,
   "metadata": {},
   "outputs": [],
   "source": [
    "trip_dest_100 = trip_dest.head(100)"
   ]
  },
  {
   "cell_type": "code",
   "execution_count": 129,
   "metadata": {},
   "outputs": [
    {
     "data": {
      "application/vnd.plotly.v1+json": {
       "config": {
        "plotlyServerURL": "https://plot.ly"
       },
       "data": [
        {
         "hovertemplate": "<b>%{hovertext}</b><br><br>Count=%{marker.color}<br>latitude=%{lat}<br>longitude=%{lon}<extra></extra>",
         "hovertext": [
          844,
          794,
          735,
          732,
          727,
          565,
          556,
          547,
          486,
          485,
          476,
          459,
          453,
          445,
          439,
          435,
          421,
          399,
          368,
          361,
          347,
          344,
          341,
          339,
          336,
          336,
          335,
          332,
          326,
          321,
          313,
          304,
          294,
          293,
          290,
          287,
          286,
          284,
          283,
          281,
          280,
          280,
          270,
          268,
          266,
          258,
          253,
          252,
          251,
          250,
          249,
          241,
          240,
          239,
          239,
          238,
          234,
          233,
          233,
          232,
          231,
          227,
          227,
          225,
          224,
          223,
          222,
          221,
          221,
          219,
          219,
          219,
          217,
          216,
          213,
          213,
          213,
          212,
          212,
          211,
          210,
          209,
          207,
          206,
          204,
          199,
          197,
          196,
          195,
          193,
          193,
          192,
          190,
          189,
          189,
          188,
          187,
          183,
          180,
          179
         ],
         "lat": [
          6.4567308,
          6.448969300000001,
          6.497595,
          6.5837939,
          6.452345299999999,
          6.455619200000001,
          6.442932799999999,
          6.4452713,
          6.4239727,
          6.4476691,
          6.429922099999999,
          6.426600599999999,
          6.4450425,
          6.4484247810924,
          6.437225100000001,
          6.4378888,
          6.446488700000001,
          6.4286308,
          6.441922500000001,
          6.446667700000001,
          6.494661199999999,
          6.4544926,
          6.446528,
          6.597663491230034,
          6.4288421,
          6.4377655,
          6.432605499999999,
          6.4414063,
          6.437351,
          6.4491768,
          6.5055698,
          6.428185099999999,
          6.439023799999999,
          6.451109499999999,
          6.469283,
          6.464413299999999,
          6.475137000000001,
          6.4683375,
          6.4324992,
          6.456547302994947,
          6.581967000000001,
          6.4418971,
          6.459066399999999,
          6.426629799999998,
          6.433850500000001,
          6.4375678,
          6.4320893,
          6.5818185,
          6.616988699999999,
          6.4669687,
          6.429289799999999,
          6.4397096,
          6.5544644,
          6.590329,
          6.589158599999998,
          6.443270699999998,
          6.429787600000001,
          6.510434000000002,
          6.5616377,
          6.459944300000001,
          6.500608199999999,
          6.4544541,
          6.443373599999999,
          6.625461199999999,
          6.445019400000001,
          6.462727,
          6.4751588,
          6.5882926,
          6.4369147,
          6.439438,
          6.451070400000001,
          6.455391343655,
          6.452335299999999,
          6.527439999999999,
          6.444684199999999,
          6.4600056,
          6.519628187099469,
          6.452395150945204,
          6.469875,
          6.4390214,
          6.438203824804743,
          6.456826500000001,
          6.423791599999999,
          6.517952699999999,
          6.4495266,
          6.5176113,
          6.4278256,
          6.432493200000001,
          6.500195799999999,
          6.462391999999999,
          6.441132700000001,
          6.442513000000001,
          6.663405399999999,
          6.436382900000002,
          6.6070099,
          6.601768000000001,
          6.426813000000001,
          6.4471696,
          6.425866200000001,
          6.666672699999999
         ],
         "legendgroup": "",
         "lon": [
          3.5309404,
          3.5231794,
          3.383098,
          3.333551899999999,
          3.527539,
          3.5117174,
          3.5301368,
          3.5071693,
          3.4892523,
          3.5334371,
          3.4881561,
          3.4301193,
          3.5028189,
          3.5502244979288,
          3.4843654,
          3.4961548,
          3.5558853,
          3.5155123,
          3.5525527,
          3.546545799999999,
          3.297618299999999,
          3.5545435,
          3.5177175,
          3.338111034260862,
          3.484081199999999,
          3.5559747,
          3.5547071,
          3.499889199999999,
          3.5578637,
          3.4902436,
          3.6127696,
          3.489054,
          3.4863031,
          3.5422707,
          3.571962999999999,
          3.572511999999999,
          3.5644741,
          3.585871599999999,
          3.5530258,
          3.5303088833123866,
          3.358615800000001,
          3.5307466,
          3.4493689,
          3.484857399999999,
          3.5657215,
          3.5606212,
          3.5512543,
          3.3211348,
          3.3596427,
          3.604013799999999,
          3.570277,
          3.5533483,
          3.3846889,
          3.371803,
          3.3347402,
          3.5433919,
          3.5542128,
          3.5958301,
          3.3842473,
          3.5561518,
          3.5981937,
          3.4046771,
          3.5523123,
          3.4839356,
          3.5194948,
          3.55679,
          3.577143,
          3.3805198,
          3.4837925,
          3.4341034,
          3.5306402,
          3.3829452094897,
          3.5430619,
          3.3688811,
          3.5066511,
          3.5097244,
          3.3679318949619463,
          3.519818969070912,
          3.6185518,
          3.5441106,
          3.4335113890196087,
          3.5584649,
          3.470217,
          3.3891871,
          3.5275161,
          3.3537748,
          3.5252132,
          3.5425313,
          3.3027681,
          3.315932,
          3.5062811,
          3.468114,
          3.3387269,
          3.5409786,
          3.3501947,
          3.240189,
          3.430013,
          3.5178536,
          3.5242031,
          3.2614883
         ],
         "marker": {
          "color": [
           844,
           794,
           735,
           732,
           727,
           565,
           556,
           547,
           486,
           485,
           476,
           459,
           453,
           445,
           439,
           435,
           421,
           399,
           368,
           361,
           347,
           344,
           341,
           339,
           336,
           336,
           335,
           332,
           326,
           321,
           313,
           304,
           294,
           293,
           290,
           287,
           286,
           284,
           283,
           281,
           280,
           280,
           270,
           268,
           266,
           258,
           253,
           252,
           251,
           250,
           249,
           241,
           240,
           239,
           239,
           238,
           234,
           233,
           233,
           232,
           231,
           227,
           227,
           225,
           224,
           223,
           222,
           221,
           221,
           219,
           219,
           219,
           217,
           216,
           213,
           213,
           213,
           212,
           212,
           211,
           210,
           209,
           207,
           206,
           204,
           199,
           197,
           196,
           195,
           193,
           193,
           192,
           190,
           189,
           189,
           188,
           187,
           183,
           180,
           179
          ],
          "coloraxis": "coloraxis",
          "size": [
           844,
           794,
           735,
           732,
           727,
           565,
           556,
           547,
           486,
           485,
           476,
           459,
           453,
           445,
           439,
           435,
           421,
           399,
           368,
           361,
           347,
           344,
           341,
           339,
           336,
           336,
           335,
           332,
           326,
           321,
           313,
           304,
           294,
           293,
           290,
           287,
           286,
           284,
           283,
           281,
           280,
           280,
           270,
           268,
           266,
           258,
           253,
           252,
           251,
           250,
           249,
           241,
           240,
           239,
           239,
           238,
           234,
           233,
           233,
           232,
           231,
           227,
           227,
           225,
           224,
           223,
           222,
           221,
           221,
           219,
           219,
           219,
           217,
           216,
           213,
           213,
           213,
           212,
           212,
           211,
           210,
           209,
           207,
           206,
           204,
           199,
           197,
           196,
           195,
           193,
           193,
           192,
           190,
           189,
           189,
           188,
           187,
           183,
           180,
           179
          ],
          "sizemode": "area",
          "sizeref": 2.11
         },
         "mode": "markers",
         "name": "",
         "showlegend": false,
         "subplot": "mapbox",
         "type": "scattermapbox"
        }
       ],
       "layout": {
        "coloraxis": {
         "colorbar": {
          "title": {
           "text": "Count"
          }
         },
         "colorscale": [
          [
           0,
           "#0d0887"
          ],
          [
           0.1111111111111111,
           "#46039f"
          ],
          [
           0.2222222222222222,
           "#7201a8"
          ],
          [
           0.3333333333333333,
           "#9c179e"
          ],
          [
           0.4444444444444444,
           "#bd3786"
          ],
          [
           0.5555555555555556,
           "#d8576b"
          ],
          [
           0.6666666666666666,
           "#ed7953"
          ],
          [
           0.7777777777777778,
           "#fb9f3a"
          ],
          [
           0.8888888888888888,
           "#fdca26"
          ],
          [
           1,
           "#f0f921"
          ]
         ]
        },
        "height": 600,
        "legend": {
         "itemsizing": "constant",
         "tracegroupgap": 0
        },
        "mapbox": {
         "center": {
          "lat": 6.474700271818219,
          "lon": 3.4846676517804425
         },
         "domain": {
          "x": [
           0,
           1
          ],
          "y": [
           0,
           1
          ]
         },
         "style": "stamen-terrain",
         "zoom": 8
        },
        "margin": {
         "b": 0,
         "l": 0,
         "r": 0,
         "t": 0
        },
        "template": {
         "data": {
          "bar": [
           {
            "error_x": {
             "color": "#2a3f5f"
            },
            "error_y": {
             "color": "#2a3f5f"
            },
            "marker": {
             "line": {
              "color": "#E5ECF6",
              "width": 0.5
             },
             "pattern": {
              "fillmode": "overlay",
              "size": 10,
              "solidity": 0.2
             }
            },
            "type": "bar"
           }
          ],
          "barpolar": [
           {
            "marker": {
             "line": {
              "color": "#E5ECF6",
              "width": 0.5
             },
             "pattern": {
              "fillmode": "overlay",
              "size": 10,
              "solidity": 0.2
             }
            },
            "type": "barpolar"
           }
          ],
          "carpet": [
           {
            "aaxis": {
             "endlinecolor": "#2a3f5f",
             "gridcolor": "white",
             "linecolor": "white",
             "minorgridcolor": "white",
             "startlinecolor": "#2a3f5f"
            },
            "baxis": {
             "endlinecolor": "#2a3f5f",
             "gridcolor": "white",
             "linecolor": "white",
             "minorgridcolor": "white",
             "startlinecolor": "#2a3f5f"
            },
            "type": "carpet"
           }
          ],
          "choropleth": [
           {
            "colorbar": {
             "outlinewidth": 0,
             "ticks": ""
            },
            "type": "choropleth"
           }
          ],
          "contour": [
           {
            "colorbar": {
             "outlinewidth": 0,
             "ticks": ""
            },
            "colorscale": [
             [
              0,
              "#0d0887"
             ],
             [
              0.1111111111111111,
              "#46039f"
             ],
             [
              0.2222222222222222,
              "#7201a8"
             ],
             [
              0.3333333333333333,
              "#9c179e"
             ],
             [
              0.4444444444444444,
              "#bd3786"
             ],
             [
              0.5555555555555556,
              "#d8576b"
             ],
             [
              0.6666666666666666,
              "#ed7953"
             ],
             [
              0.7777777777777778,
              "#fb9f3a"
             ],
             [
              0.8888888888888888,
              "#fdca26"
             ],
             [
              1,
              "#f0f921"
             ]
            ],
            "type": "contour"
           }
          ],
          "contourcarpet": [
           {
            "colorbar": {
             "outlinewidth": 0,
             "ticks": ""
            },
            "type": "contourcarpet"
           }
          ],
          "heatmap": [
           {
            "colorbar": {
             "outlinewidth": 0,
             "ticks": ""
            },
            "colorscale": [
             [
              0,
              "#0d0887"
             ],
             [
              0.1111111111111111,
              "#46039f"
             ],
             [
              0.2222222222222222,
              "#7201a8"
             ],
             [
              0.3333333333333333,
              "#9c179e"
             ],
             [
              0.4444444444444444,
              "#bd3786"
             ],
             [
              0.5555555555555556,
              "#d8576b"
             ],
             [
              0.6666666666666666,
              "#ed7953"
             ],
             [
              0.7777777777777778,
              "#fb9f3a"
             ],
             [
              0.8888888888888888,
              "#fdca26"
             ],
             [
              1,
              "#f0f921"
             ]
            ],
            "type": "heatmap"
           }
          ],
          "heatmapgl": [
           {
            "colorbar": {
             "outlinewidth": 0,
             "ticks": ""
            },
            "colorscale": [
             [
              0,
              "#0d0887"
             ],
             [
              0.1111111111111111,
              "#46039f"
             ],
             [
              0.2222222222222222,
              "#7201a8"
             ],
             [
              0.3333333333333333,
              "#9c179e"
             ],
             [
              0.4444444444444444,
              "#bd3786"
             ],
             [
              0.5555555555555556,
              "#d8576b"
             ],
             [
              0.6666666666666666,
              "#ed7953"
             ],
             [
              0.7777777777777778,
              "#fb9f3a"
             ],
             [
              0.8888888888888888,
              "#fdca26"
             ],
             [
              1,
              "#f0f921"
             ]
            ],
            "type": "heatmapgl"
           }
          ],
          "histogram": [
           {
            "marker": {
             "pattern": {
              "fillmode": "overlay",
              "size": 10,
              "solidity": 0.2
             }
            },
            "type": "histogram"
           }
          ],
          "histogram2d": [
           {
            "colorbar": {
             "outlinewidth": 0,
             "ticks": ""
            },
            "colorscale": [
             [
              0,
              "#0d0887"
             ],
             [
              0.1111111111111111,
              "#46039f"
             ],
             [
              0.2222222222222222,
              "#7201a8"
             ],
             [
              0.3333333333333333,
              "#9c179e"
             ],
             [
              0.4444444444444444,
              "#bd3786"
             ],
             [
              0.5555555555555556,
              "#d8576b"
             ],
             [
              0.6666666666666666,
              "#ed7953"
             ],
             [
              0.7777777777777778,
              "#fb9f3a"
             ],
             [
              0.8888888888888888,
              "#fdca26"
             ],
             [
              1,
              "#f0f921"
             ]
            ],
            "type": "histogram2d"
           }
          ],
          "histogram2dcontour": [
           {
            "colorbar": {
             "outlinewidth": 0,
             "ticks": ""
            },
            "colorscale": [
             [
              0,
              "#0d0887"
             ],
             [
              0.1111111111111111,
              "#46039f"
             ],
             [
              0.2222222222222222,
              "#7201a8"
             ],
             [
              0.3333333333333333,
              "#9c179e"
             ],
             [
              0.4444444444444444,
              "#bd3786"
             ],
             [
              0.5555555555555556,
              "#d8576b"
             ],
             [
              0.6666666666666666,
              "#ed7953"
             ],
             [
              0.7777777777777778,
              "#fb9f3a"
             ],
             [
              0.8888888888888888,
              "#fdca26"
             ],
             [
              1,
              "#f0f921"
             ]
            ],
            "type": "histogram2dcontour"
           }
          ],
          "mesh3d": [
           {
            "colorbar": {
             "outlinewidth": 0,
             "ticks": ""
            },
            "type": "mesh3d"
           }
          ],
          "parcoords": [
           {
            "line": {
             "colorbar": {
              "outlinewidth": 0,
              "ticks": ""
             }
            },
            "type": "parcoords"
           }
          ],
          "pie": [
           {
            "automargin": true,
            "type": "pie"
           }
          ],
          "scatter": [
           {
            "fillpattern": {
             "fillmode": "overlay",
             "size": 10,
             "solidity": 0.2
            },
            "type": "scatter"
           }
          ],
          "scatter3d": [
           {
            "line": {
             "colorbar": {
              "outlinewidth": 0,
              "ticks": ""
             }
            },
            "marker": {
             "colorbar": {
              "outlinewidth": 0,
              "ticks": ""
             }
            },
            "type": "scatter3d"
           }
          ],
          "scattercarpet": [
           {
            "marker": {
             "colorbar": {
              "outlinewidth": 0,
              "ticks": ""
             }
            },
            "type": "scattercarpet"
           }
          ],
          "scattergeo": [
           {
            "marker": {
             "colorbar": {
              "outlinewidth": 0,
              "ticks": ""
             }
            },
            "type": "scattergeo"
           }
          ],
          "scattergl": [
           {
            "marker": {
             "colorbar": {
              "outlinewidth": 0,
              "ticks": ""
             }
            },
            "type": "scattergl"
           }
          ],
          "scattermapbox": [
           {
            "marker": {
             "colorbar": {
              "outlinewidth": 0,
              "ticks": ""
             }
            },
            "type": "scattermapbox"
           }
          ],
          "scatterpolar": [
           {
            "marker": {
             "colorbar": {
              "outlinewidth": 0,
              "ticks": ""
             }
            },
            "type": "scatterpolar"
           }
          ],
          "scatterpolargl": [
           {
            "marker": {
             "colorbar": {
              "outlinewidth": 0,
              "ticks": ""
             }
            },
            "type": "scatterpolargl"
           }
          ],
          "scatterternary": [
           {
            "marker": {
             "colorbar": {
              "outlinewidth": 0,
              "ticks": ""
             }
            },
            "type": "scatterternary"
           }
          ],
          "surface": [
           {
            "colorbar": {
             "outlinewidth": 0,
             "ticks": ""
            },
            "colorscale": [
             [
              0,
              "#0d0887"
             ],
             [
              0.1111111111111111,
              "#46039f"
             ],
             [
              0.2222222222222222,
              "#7201a8"
             ],
             [
              0.3333333333333333,
              "#9c179e"
             ],
             [
              0.4444444444444444,
              "#bd3786"
             ],
             [
              0.5555555555555556,
              "#d8576b"
             ],
             [
              0.6666666666666666,
              "#ed7953"
             ],
             [
              0.7777777777777778,
              "#fb9f3a"
             ],
             [
              0.8888888888888888,
              "#fdca26"
             ],
             [
              1,
              "#f0f921"
             ]
            ],
            "type": "surface"
           }
          ],
          "table": [
           {
            "cells": {
             "fill": {
              "color": "#EBF0F8"
             },
             "line": {
              "color": "white"
             }
            },
            "header": {
             "fill": {
              "color": "#C8D4E3"
             },
             "line": {
              "color": "white"
             }
            },
            "type": "table"
           }
          ]
         },
         "layout": {
          "annotationdefaults": {
           "arrowcolor": "#2a3f5f",
           "arrowhead": 0,
           "arrowwidth": 1
          },
          "autotypenumbers": "strict",
          "coloraxis": {
           "colorbar": {
            "outlinewidth": 0,
            "ticks": ""
           }
          },
          "colorscale": {
           "diverging": [
            [
             0,
             "#8e0152"
            ],
            [
             0.1,
             "#c51b7d"
            ],
            [
             0.2,
             "#de77ae"
            ],
            [
             0.3,
             "#f1b6da"
            ],
            [
             0.4,
             "#fde0ef"
            ],
            [
             0.5,
             "#f7f7f7"
            ],
            [
             0.6,
             "#e6f5d0"
            ],
            [
             0.7,
             "#b8e186"
            ],
            [
             0.8,
             "#7fbc41"
            ],
            [
             0.9,
             "#4d9221"
            ],
            [
             1,
             "#276419"
            ]
           ],
           "sequential": [
            [
             0,
             "#0d0887"
            ],
            [
             0.1111111111111111,
             "#46039f"
            ],
            [
             0.2222222222222222,
             "#7201a8"
            ],
            [
             0.3333333333333333,
             "#9c179e"
            ],
            [
             0.4444444444444444,
             "#bd3786"
            ],
            [
             0.5555555555555556,
             "#d8576b"
            ],
            [
             0.6666666666666666,
             "#ed7953"
            ],
            [
             0.7777777777777778,
             "#fb9f3a"
            ],
            [
             0.8888888888888888,
             "#fdca26"
            ],
            [
             1,
             "#f0f921"
            ]
           ],
           "sequentialminus": [
            [
             0,
             "#0d0887"
            ],
            [
             0.1111111111111111,
             "#46039f"
            ],
            [
             0.2222222222222222,
             "#7201a8"
            ],
            [
             0.3333333333333333,
             "#9c179e"
            ],
            [
             0.4444444444444444,
             "#bd3786"
            ],
            [
             0.5555555555555556,
             "#d8576b"
            ],
            [
             0.6666666666666666,
             "#ed7953"
            ],
            [
             0.7777777777777778,
             "#fb9f3a"
            ],
            [
             0.8888888888888888,
             "#fdca26"
            ],
            [
             1,
             "#f0f921"
            ]
           ]
          },
          "colorway": [
           "#636efa",
           "#EF553B",
           "#00cc96",
           "#ab63fa",
           "#FFA15A",
           "#19d3f3",
           "#FF6692",
           "#B6E880",
           "#FF97FF",
           "#FECB52"
          ],
          "font": {
           "color": "#2a3f5f"
          },
          "geo": {
           "bgcolor": "white",
           "lakecolor": "white",
           "landcolor": "#E5ECF6",
           "showlakes": true,
           "showland": true,
           "subunitcolor": "white"
          },
          "hoverlabel": {
           "align": "left"
          },
          "hovermode": "closest",
          "mapbox": {
           "style": "light"
          },
          "paper_bgcolor": "white",
          "plot_bgcolor": "#E5ECF6",
          "polar": {
           "angularaxis": {
            "gridcolor": "white",
            "linecolor": "white",
            "ticks": ""
           },
           "bgcolor": "#E5ECF6",
           "radialaxis": {
            "gridcolor": "white",
            "linecolor": "white",
            "ticks": ""
           }
          },
          "scene": {
           "xaxis": {
            "backgroundcolor": "#E5ECF6",
            "gridcolor": "white",
            "gridwidth": 2,
            "linecolor": "white",
            "showbackground": true,
            "ticks": "",
            "zerolinecolor": "white"
           },
           "yaxis": {
            "backgroundcolor": "#E5ECF6",
            "gridcolor": "white",
            "gridwidth": 2,
            "linecolor": "white",
            "showbackground": true,
            "ticks": "",
            "zerolinecolor": "white"
           },
           "zaxis": {
            "backgroundcolor": "#E5ECF6",
            "gridcolor": "white",
            "gridwidth": 2,
            "linecolor": "white",
            "showbackground": true,
            "ticks": "",
            "zerolinecolor": "white"
           }
          },
          "shapedefaults": {
           "line": {
            "color": "#2a3f5f"
           }
          },
          "ternary": {
           "aaxis": {
            "gridcolor": "white",
            "linecolor": "white",
            "ticks": ""
           },
           "baxis": {
            "gridcolor": "white",
            "linecolor": "white",
            "ticks": ""
           },
           "bgcolor": "#E5ECF6",
           "caxis": {
            "gridcolor": "white",
            "linecolor": "white",
            "ticks": ""
           }
          },
          "title": {
           "x": 0.05
          },
          "xaxis": {
           "automargin": true,
           "gridcolor": "white",
           "linecolor": "white",
           "ticks": "",
           "title": {
            "standoff": 15
           },
           "zerolinecolor": "white",
           "zerolinewidth": 2
          },
          "yaxis": {
           "automargin": true,
           "gridcolor": "white",
           "linecolor": "white",
           "ticks": "",
           "title": {
            "standoff": 15
           },
           "zerolinecolor": "white",
           "zerolinewidth": 2
          }
         }
        }
       }
      }
     },
     "metadata": {},
     "output_type": "display_data"
    }
   ],
   "source": [
    "import plotly.express as px\n",
    "\n",
    "fig = px.scatter_mapbox(trip_dest.head(100),lat='latitude',lon='longitude', hover_name=\"Count\",color=\"Count\",height=600,size=\"Count\")\n",
    "# fig.update_layout(title = 'World map', title_x=0.5,geo_scope='africa',margin=dict(l=0, r=0, t=0, b=0))\n",
    "\n",
    "# choose styles -> 'open-street-map', 'white-bg', 'carto-positron', 'carto-darkmatter', 'stamen- terrain', 'stamen-toner', 'stamen-watercolor'\n",
    "fig.update_layout(mapbox_style=\"stamen-terrain\")\n",
    "fig.update_layout(margin={\"r\":0,\"t\":0,\"l\":0,\"b\":0})\n",
    "# fig.show()\n",
    "fig.show()"
   ]
  },
  {
   "cell_type": "code",
   "execution_count": 170,
   "metadata": {},
   "outputs": [
    {
     "name": "stderr",
     "output_type": "stream",
     "text": [
      "C:\\Users\\Natnael\\AppData\\Local\\Temp\\ipykernel_13464\\1786424222.py:1: SettingWithCopyWarning:\n",
      "\n",
      "\n",
      "A value is trying to be set on a copy of a slice from a DataFrame.\n",
      "Try using .loc[row_indexer,col_indexer] = value instead\n",
      "\n",
      "See the caveats in the documentation: https://pandas.pydata.org/pandas-docs/stable/user_guide/indexing.html#returning-a-view-versus-a-copy\n",
      "\n"
     ]
    }
   ],
   "source": [
    "trip_dest_100[\"location\"] = trip_dest_100.apply(lambda x:str(geolocator.reverse(str(x[\"latitude\"])+\",\"+str(x[\"longitude\"]))),axis=1)\n"
   ]
  },
  {
   "cell_type": "code",
   "execution_count": null,
   "metadata": {},
   "outputs": [],
   "source": [
    "def spliter(text:str):\n",
    "    try:\n",
    "        text=text.split(',')[-4]\n",
    "        return text \n",
    "    except Exception:\n",
    "        text = text.split(',')[-3]\n",
    "        return text\n",
    "trip_dest_100[\"location\"]=trip_dest_100[\"location\"].apply(lambda x:spliter(x))"
   ]
  },
  {
   "cell_type": "code",
   "execution_count": 173,
   "metadata": {},
   "outputs": [
    {
     "data": {
      "text/html": [
       "<div>\n",
       "<style scoped>\n",
       "    .dataframe tbody tr th:only-of-type {\n",
       "        vertical-align: middle;\n",
       "    }\n",
       "\n",
       "    .dataframe tbody tr th {\n",
       "        vertical-align: top;\n",
       "    }\n",
       "\n",
       "    .dataframe thead th {\n",
       "        text-align: right;\n",
       "    }\n",
       "</style>\n",
       "<table border=\"1\" class=\"dataframe\">\n",
       "  <thead>\n",
       "    <tr style=\"text-align: right;\">\n",
       "      <th></th>\n",
       "      <th>Count</th>\n",
       "      <th>latitude</th>\n",
       "      <th>longitude</th>\n",
       "      <th>location</th>\n",
       "    </tr>\n",
       "  </thead>\n",
       "  <tbody>\n",
       "    <tr>\n",
       "      <th>0</th>\n",
       "      <td>844</td>\n",
       "      <td>6.456731</td>\n",
       "      <td>3.530940</td>\n",
       "      <td>Eti Osa</td>\n",
       "    </tr>\n",
       "    <tr>\n",
       "      <th>1</th>\n",
       "      <td>794</td>\n",
       "      <td>6.448969</td>\n",
       "      <td>3.523179</td>\n",
       "      <td>Eti Osa</td>\n",
       "    </tr>\n",
       "    <tr>\n",
       "      <th>2</th>\n",
       "      <td>735</td>\n",
       "      <td>6.497595</td>\n",
       "      <td>3.383098</td>\n",
       "      <td>Lagos Mainland</td>\n",
       "    </tr>\n",
       "    <tr>\n",
       "      <th>3</th>\n",
       "      <td>732</td>\n",
       "      <td>6.583794</td>\n",
       "      <td>3.333552</td>\n",
       "      <td>Ikeja</td>\n",
       "    </tr>\n",
       "    <tr>\n",
       "      <th>4</th>\n",
       "      <td>727</td>\n",
       "      <td>6.452345</td>\n",
       "      <td>3.527539</td>\n",
       "      <td>Eti Osa</td>\n",
       "    </tr>\n",
       "    <tr>\n",
       "      <th>...</th>\n",
       "      <td>...</td>\n",
       "      <td>...</td>\n",
       "      <td>...</td>\n",
       "      <td>...</td>\n",
       "    </tr>\n",
       "    <tr>\n",
       "      <th>95</th>\n",
       "      <td>188</td>\n",
       "      <td>6.601768</td>\n",
       "      <td>3.240189</td>\n",
       "      <td>Ayobo</td>\n",
       "    </tr>\n",
       "    <tr>\n",
       "      <th>96</th>\n",
       "      <td>187</td>\n",
       "      <td>6.426813</td>\n",
       "      <td>3.430013</td>\n",
       "      <td>Eti Osa</td>\n",
       "    </tr>\n",
       "    <tr>\n",
       "      <th>97</th>\n",
       "      <td>183</td>\n",
       "      <td>6.447170</td>\n",
       "      <td>3.517854</td>\n",
       "      <td>Eti Osa</td>\n",
       "    </tr>\n",
       "    <tr>\n",
       "      <th>98</th>\n",
       "      <td>180</td>\n",
       "      <td>6.425866</td>\n",
       "      <td>3.524203</td>\n",
       "      <td>Eti Osa</td>\n",
       "    </tr>\n",
       "    <tr>\n",
       "      <th>99</th>\n",
       "      <td>179</td>\n",
       "      <td>6.666673</td>\n",
       "      <td>3.261488</td>\n",
       "      <td>Alimosho</td>\n",
       "    </tr>\n",
       "  </tbody>\n",
       "</table>\n",
       "<p>100 rows × 4 columns</p>\n",
       "</div>"
      ],
      "text/plain": [
       "    Count  latitude  longitude         location\n",
       "0     844  6.456731   3.530940          Eti Osa\n",
       "1     794  6.448969   3.523179          Eti Osa\n",
       "2     735  6.497595   3.383098   Lagos Mainland\n",
       "3     732  6.583794   3.333552            Ikeja\n",
       "4     727  6.452345   3.527539          Eti Osa\n",
       "..    ...       ...        ...              ...\n",
       "95    188  6.601768   3.240189            Ayobo\n",
       "96    187  6.426813   3.430013          Eti Osa\n",
       "97    183  6.447170   3.517854          Eti Osa\n",
       "98    180  6.425866   3.524203          Eti Osa\n",
       "99    179  6.666673   3.261488         Alimosho\n",
       "\n",
       "[100 rows x 4 columns]"
      ]
     },
     "execution_count": 173,
     "metadata": {},
     "output_type": "execute_result"
    }
   ],
   "source": [
    "trip_dest_100"
   ]
  },
  {
   "cell_type": "code",
   "execution_count": 174,
   "metadata": {},
   "outputs": [
    {
     "name": "stderr",
     "output_type": "stream",
     "text": [
      "C:\\Users\\Natnael\\AppData\\Local\\Temp\\ipykernel_13464\\2572136509.py:1: SettingWithCopyWarning:\n",
      "\n",
      "\n",
      "A value is trying to be set on a copy of a slice from a DataFrame.\n",
      "Try using .loc[row_indexer,col_indexer] = value instead\n",
      "\n",
      "See the caveats in the documentation: https://pandas.pydata.org/pandas-docs/stable/user_guide/indexing.html#returning-a-view-versus-a-copy\n",
      "\n"
     ]
    },
    {
     "data": {
      "image/png": "[encoded data removed]",
      "text/plain": [
       "<Figure size 640x480 with 1 Axes>"
      ]
     },
     "metadata": {},
     "output_type": "display_data"
    }
   ],
   "source": [
    "trip_dest_100[\"location\"]=trip_dest_100['location'].apply(lambda x:x.strip())\n",
    "top_locations=trip_dest_100.groupby('location',as_index=False).agg({\"Count\":\"sum\"}).sort_values(by=\"Count\",ascending=False)\n",
    "\n",
    "\n",
    "\n",
    "top_locations.set_index(\"location\",inplace=True)\n",
    "top_locations.plot(kind='bar')\n",
    "plt.show()"
   ]
  },
  {
   "cell_type": "markdown",
   "metadata": {},
   "source": [
    "### Traveled distance"
   ]
  },
  {
   "cell_type": "code",
   "execution_count": 21,
   "metadata": {},
   "outputs": [],
   "source": [
    "complete_cleaned['distance']=complete_cleaned.apply(lambda x:distance.distance((x[\"trip_origin\"]), (x[\"trip_destination\"])).km,axis=1)\n"
   ]
  },
  {
   "cell_type": "code",
   "execution_count": 22,
   "metadata": {},
   "outputs": [],
   "source": [
    "complete_cleaned.rename(columns={\"distance\":\"distance_km\",\"duration\":\"duration_min\"},inplace=True)"
   ]
  },
  {
   "cell_type": "markdown",
   "metadata": {},
   "source": [
    "### holiday"
   ]
  },
  {
   "cell_type": "code",
   "execution_count": 64,
   "metadata": {},
   "outputs": [],
   "source": [
    "nigeria_holiday= holidays.Nigeria()\n",
    "\n",
    "def check_holiday(order_time:datetime):\n",
    "    return order_time.date() in nigeria_holiday\n",
    "\n",
    "complete_cleaned[\"holiday\"]=complete_cleaned[\"trip_start_time\"].apply(lambda x:check_holiday(x))"
   ]
  },
  {
   "cell_type": "code",
   "execution_count": 67,
   "metadata": {},
   "outputs": [
    {
     "data": {
      "image/png": "[encoded data removed]",
      "text/plain": [
       "<Figure size 640x480 with 1 Axes>"
      ]
     },
     "metadata": {},
     "output_type": "display_data"
    }
   ],
   "source": [
    "# complete_cleaned[\"holiday\"].value_counts().plot(kind='pie')\n",
    "\n",
    "\n",
    "labels= complete_cleaned[\"holiday\"].value_counts().index\n",
    "sizes= (complete_cleaned[\"holiday\"].value_counts())\n",
    "\n",
    "plt.pie(sizes,labels=labels,startangle=60, autopct='%1.1f%%')\n",
    "\n",
    "plt.axis('equal')\n",
    "plt.title(\"Was there holiday?\")\n",
    "\n",
    "plt.show()"
   ]
  },
  {
   "cell_type": "markdown",
   "metadata": {},
   "source": [
    "from the above chart we can see that 98.3% of the orders were accepted in a non-holiday date"
   ]
  },
  {
   "cell_type": "code",
   "execution_count": null,
   "metadata": {},
   "outputs": [],
   "source": [
    "complete_cleaned.to_csv(\"../data/cleaned_complete_orders.csv\",index=False)\n",
    "\n",
    "# complete_cleaned.head()"
   ]
  }
 ],
 "metadata": {
  "kernelspec": {
   "display_name": "Python 3.10.5 ('.venv': venv)",
   "language": "python",
   "name": "python3"
  },
  "language_info": {
   "codemirror_mode": {
    "name": "ipython",
    "version": 3
   },
   "file_extension": ".py",
   "mimetype": "text/x-python",
   "name": "python",
   "nbconvert_exporter": "python",
   "pygments_lexer": "ipython3",
   "version": "3.10.5"
  },
  "orig_nbformat": 4,
  "vscode": {
   "interpreter": {
    "hash": "cf40f469ce6adfe8c9594c24faa00f428b25529a0c6fce1357b6760e93d9a597"
   }
  }
 },
 "nbformat": 4,
 "nbformat_minor": 2
}
