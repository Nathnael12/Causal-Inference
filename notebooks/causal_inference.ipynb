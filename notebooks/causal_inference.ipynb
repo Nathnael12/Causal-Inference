{
 "cells": [
  {
   "cell_type": "code",
   "execution_count": 70,
   "metadata": {},
   "outputs": [],
   "source": [
    "import warnings\n",
    "warnings.filterwarnings(\"ignore\")  # silence warnings\n",
    "\n",
    "import pandas as pd\n",
    "from datetime import datetime,date\n",
    "from causalnex.structure import StructureModel\n",
    "from sklearn.preprocessing import LabelEncoder\n",
    "\n",
    "from causalnex.structure.notears import from_pandas\n",
    "from IPython.display import Image\n",
    "from causalnex.plots import plot_structure, NODE_STYLE, EDGE_STYLE\n",
    "\n",
    "from sklearn.cluster import KMeans\n",
    "from sklearn.preprocessing import Normalizer, MinMaxScaler, StandardScaler\n",
    "import pickle\n"
   ]
  },
  {
   "cell_type": "code",
   "execution_count": 8,
   "metadata": {},
   "outputs": [],
   "source": [
    "import sys\n",
    "sys.path.append(\"../scripts/\")\n",
    "from data_cleaner import DataCleaner\n",
    "cleaner = DataCleaner()"
   ]
  },
  {
   "cell_type": "code",
   "execution_count": 9,
   "metadata": {},
   "outputs": [],
   "source": [
    "df  = pd.read_csv('../data/merged_df.csv')\n",
    "clean_df = pd.read_csv('../data/clean_merged_df.csv')"
   ]
  },
  {
   "cell_type": "code",
   "execution_count": 10,
   "metadata": {},
   "outputs": [
    {
     "data": {
      "text/html": [
       "<div>\n",
       "<style scoped>\n",
       "    .dataframe tbody tr th:only-of-type {\n",
       "        vertical-align: middle;\n",
       "    }\n",
       "\n",
       "    .dataframe tbody tr th {\n",
       "        vertical-align: top;\n",
       "    }\n",
       "\n",
       "    .dataframe thead th {\n",
       "        text-align: right;\n",
       "    }\n",
       "</style>\n",
       "<table border=\"1\" class=\"dataframe\">\n",
       "  <thead>\n",
       "    <tr style=\"text-align: right;\">\n",
       "      <th></th>\n",
       "      <th>order_id</th>\n",
       "      <th>driver_lat</th>\n",
       "      <th>driver_lng</th>\n",
       "      <th>origin_lat</th>\n",
       "      <th>origin_lng</th>\n",
       "      <th>distance_diff</th>\n",
       "      <th>trip_start_time</th>\n",
       "      <th>duration_min</th>\n",
       "      <th>holiday</th>\n",
       "      <th>action_count</th>\n",
       "      <th>driver_action</th>\n",
       "      <th>fulfilled</th>\n",
       "      <th>weekend</th>\n",
       "    </tr>\n",
       "  </thead>\n",
       "  <tbody>\n",
       "    <tr>\n",
       "      <th>0</th>\n",
       "      <td>392001</td>\n",
       "      <td>6.602207</td>\n",
       "      <td>3.270465</td>\n",
       "      <td>6.601042</td>\n",
       "      <td>3.276634</td>\n",
       "      <td>0.694264</td>\n",
       "      <td>2021-07-01 09:30:59</td>\n",
       "      <td>3.0</td>\n",
       "      <td>False</td>\n",
       "      <td>1</td>\n",
       "      <td>accepted</td>\n",
       "      <td>False</td>\n",
       "      <td>False</td>\n",
       "    </tr>\n",
       "    <tr>\n",
       "      <th>1</th>\n",
       "      <td>392005</td>\n",
       "      <td>6.549147</td>\n",
       "      <td>3.392184</td>\n",
       "      <td>6.565088</td>\n",
       "      <td>3.384441</td>\n",
       "      <td>1.959786</td>\n",
       "      <td>2021-07-01 10:53:36</td>\n",
       "      <td>34.0</td>\n",
       "      <td>False</td>\n",
       "      <td>1</td>\n",
       "      <td>accepted</td>\n",
       "      <td>True</td>\n",
       "      <td>False</td>\n",
       "    </tr>\n",
       "    <tr>\n",
       "      <th>2</th>\n",
       "      <td>392009</td>\n",
       "      <td>6.644829</td>\n",
       "      <td>3.289328</td>\n",
       "      <td>6.663648</td>\n",
       "      <td>3.308206</td>\n",
       "      <td>2.947683</td>\n",
       "      <td>2021-07-01 06:39:51</td>\n",
       "      <td>61.0</td>\n",
       "      <td>False</td>\n",
       "      <td>1</td>\n",
       "      <td>accepted</td>\n",
       "      <td>True</td>\n",
       "      <td>False</td>\n",
       "    </tr>\n",
       "    <tr>\n",
       "      <th>3</th>\n",
       "      <td>392013</td>\n",
       "      <td>6.435331</td>\n",
       "      <td>3.424317</td>\n",
       "      <td>6.430817</td>\n",
       "      <td>3.434155</td>\n",
       "      <td>1.197389</td>\n",
       "      <td>2021-07-01 08:44:09</td>\n",
       "      <td>35.0</td>\n",
       "      <td>False</td>\n",
       "      <td>1</td>\n",
       "      <td>accepted</td>\n",
       "      <td>True</td>\n",
       "      <td>False</td>\n",
       "    </tr>\n",
       "    <tr>\n",
       "      <th>4</th>\n",
       "      <td>392014</td>\n",
       "      <td>6.498221</td>\n",
       "      <td>3.360042</td>\n",
       "      <td>6.499156</td>\n",
       "      <td>3.358517</td>\n",
       "      <td>0.197853</td>\n",
       "      <td>2021-07-01 06:43:07</td>\n",
       "      <td>44.0</td>\n",
       "      <td>False</td>\n",
       "      <td>1</td>\n",
       "      <td>accepted</td>\n",
       "      <td>True</td>\n",
       "      <td>False</td>\n",
       "    </tr>\n",
       "  </tbody>\n",
       "</table>\n",
       "</div>"
      ],
      "text/plain": [
       "   order_id  driver_lat  driver_lng  origin_lat  origin_lng  distance_diff  \\\n",
       "0    392001    6.602207    3.270465    6.601042    3.276634       0.694264   \n",
       "1    392005    6.549147    3.392184    6.565088    3.384441       1.959786   \n",
       "2    392009    6.644829    3.289328    6.663648    3.308206       2.947683   \n",
       "3    392013    6.435331    3.424317    6.430817    3.434155       1.197389   \n",
       "4    392014    6.498221    3.360042    6.499156    3.358517       0.197853   \n",
       "\n",
       "       trip_start_time  duration_min  holiday  action_count driver_action  \\\n",
       "0  2021-07-01 09:30:59           3.0    False             1      accepted   \n",
       "1  2021-07-01 10:53:36          34.0    False             1      accepted   \n",
       "2  2021-07-01 06:39:51          61.0    False             1      accepted   \n",
       "3  2021-07-01 08:44:09          35.0    False             1      accepted   \n",
       "4  2021-07-01 06:43:07          44.0    False             1      accepted   \n",
       "\n",
       "   fulfilled  weekend  \n",
       "0      False    False  \n",
       "1       True    False  \n",
       "2       True    False  \n",
       "3       True    False  \n",
       "4       True    False  "
      ]
     },
     "execution_count": 10,
     "metadata": {},
     "output_type": "execute_result"
    }
   ],
   "source": [
    "clean_df.head()"
   ]
  },
  {
   "cell_type": "code",
   "execution_count": 11,
   "metadata": {},
   "outputs": [],
   "source": [
    "df[\"date\"]=df[\"trip_start_time\"].apply(lambda x: pd.to_datetime(x).date())\n",
    "df[\"hour\"]=df[\"trip_start_time\"].apply(lambda x: pd.to_datetime(x).hour)\n",
    "df.drop(columns=\"trip_start_time\",inplace=True)"
   ]
  },
  {
   "cell_type": "code",
   "execution_count": 12,
   "metadata": {},
   "outputs": [],
   "source": [
    "df = cleaner.find_distance(df,distance_col_name=\"distance_diff\",trip_origin_col_names=[\"driver_lat\",\"driver_lng\"],trip_destination_col_names=[\"origin_lat\",\"origin_lng\"])\n"
   ]
  },
  {
   "cell_type": "code",
   "execution_count": 13,
   "metadata": {},
   "outputs": [],
   "source": [
    "temp_df=df.copy()"
   ]
  },
  {
   "cell_type": "code",
   "execution_count": 43,
   "metadata": {},
   "outputs": [],
   "source": [
    "convert_to_num_cols=[\"driver_lat\",\"driver_lng\",\"duration_min\",\"origin_lat\",\"origin_lng\",\"hour\",\"distance_diff\"]\n",
    "df = cleaner.convert_to_numbers(df,convert_to_num_cols)\n",
    "\n",
    "convert_to_str_cols=[\"driver_id\",\"driver_action\",\"holiday\"]\n",
    "df = cleaner.convert_to_string(df,convert_to_str_cols)\n",
    "\n",
    "convert_to_date_cols=[\"date\"]\n",
    "df = cleaner.convert_to_datetime(df,convert_to_date_cols)\n",
    "\n",
    "# df[convert_to_num_cols] = df[convert_to_num_cols].apply(pd.to_numeric)\n",
    "\n",
    "\n",
    "# for col in convert_to_str_cols:\n",
    "#     df[col] = df[col].astype(str)\n",
    "\n",
    "# df[\"date\"] =  pd.to_datetime(df[\"date\"])\n"
   ]
  },
  {
   "cell_type": "code",
   "execution_count": 45,
   "metadata": {},
   "outputs": [],
   "source": [
    "df[\"fulfilled\"] = (df[\"driver_action\"] == \"accepted\") & (df[\"duration_min\"] >=10)"
   ]
  },
  {
   "cell_type": "code",
   "execution_count": 46,
   "metadata": {},
   "outputs": [
    {
     "data": {
      "text/html": [
       "<div>\n",
       "<style scoped>\n",
       "    .dataframe tbody tr th:only-of-type {\n",
       "        vertical-align: middle;\n",
       "    }\n",
       "\n",
       "    .dataframe tbody tr th {\n",
       "        vertical-align: top;\n",
       "    }\n",
       "\n",
       "    .dataframe thead th {\n",
       "        text-align: right;\n",
       "    }\n",
       "</style>\n",
       "<table border=\"1\" class=\"dataframe\">\n",
       "  <thead>\n",
       "    <tr style=\"text-align: right;\">\n",
       "      <th></th>\n",
       "      <th>id</th>\n",
       "      <th>order_id</th>\n",
       "      <th>driver_id</th>\n",
       "      <th>driver_action</th>\n",
       "      <th>driver_lat</th>\n",
       "      <th>driver_lng</th>\n",
       "      <th>duration_min</th>\n",
       "      <th>holiday</th>\n",
       "      <th>origin_lat</th>\n",
       "      <th>origin_lng</th>\n",
       "      <th>date</th>\n",
       "      <th>hour</th>\n",
       "      <th>distance_diff</th>\n",
       "      <th>fulfilled</th>\n",
       "    </tr>\n",
       "  </thead>\n",
       "  <tbody>\n",
       "    <tr>\n",
       "      <th>0</th>\n",
       "      <td>1</td>\n",
       "      <td>392001</td>\n",
       "      <td>243828</td>\n",
       "      <td>accepted</td>\n",
       "      <td>6.602207</td>\n",
       "      <td>3.270465</td>\n",
       "      <td>3.0</td>\n",
       "      <td>False</td>\n",
       "      <td>6.601042</td>\n",
       "      <td>3.276634</td>\n",
       "      <td>2021-07-01</td>\n",
       "      <td>9</td>\n",
       "      <td>0.694264</td>\n",
       "      <td>False</td>\n",
       "    </tr>\n",
       "    <tr>\n",
       "      <th>1</th>\n",
       "      <td>2</td>\n",
       "      <td>392001</td>\n",
       "      <td>243588</td>\n",
       "      <td>rejected</td>\n",
       "      <td>6.592097</td>\n",
       "      <td>3.287445</td>\n",
       "      <td>3.0</td>\n",
       "      <td>False</td>\n",
       "      <td>6.601042</td>\n",
       "      <td>3.276634</td>\n",
       "      <td>2021-07-01</td>\n",
       "      <td>9</td>\n",
       "      <td>1.551694</td>\n",
       "      <td>False</td>\n",
       "    </tr>\n",
       "    <tr>\n",
       "      <th>2</th>\n",
       "      <td>3</td>\n",
       "      <td>392001</td>\n",
       "      <td>243830</td>\n",
       "      <td>rejected</td>\n",
       "      <td>6.596133</td>\n",
       "      <td>3.281784</td>\n",
       "      <td>3.0</td>\n",
       "      <td>False</td>\n",
       "      <td>6.601042</td>\n",
       "      <td>3.276634</td>\n",
       "      <td>2021-07-01</td>\n",
       "      <td>9</td>\n",
       "      <td>0.786777</td>\n",
       "      <td>False</td>\n",
       "    </tr>\n",
       "    <tr>\n",
       "      <th>3</th>\n",
       "      <td>4</td>\n",
       "      <td>392001</td>\n",
       "      <td>243539</td>\n",
       "      <td>rejected</td>\n",
       "      <td>6.596142</td>\n",
       "      <td>3.280526</td>\n",
       "      <td>3.0</td>\n",
       "      <td>False</td>\n",
       "      <td>6.601042</td>\n",
       "      <td>3.276634</td>\n",
       "      <td>2021-07-01</td>\n",
       "      <td>9</td>\n",
       "      <td>0.692054</td>\n",
       "      <td>False</td>\n",
       "    </tr>\n",
       "    <tr>\n",
       "      <th>4</th>\n",
       "      <td>5</td>\n",
       "      <td>392001</td>\n",
       "      <td>171653</td>\n",
       "      <td>rejected</td>\n",
       "      <td>6.609232</td>\n",
       "      <td>3.288800</td>\n",
       "      <td>3.0</td>\n",
       "      <td>False</td>\n",
       "      <td>6.601042</td>\n",
       "      <td>3.276634</td>\n",
       "      <td>2021-07-01</td>\n",
       "      <td>9</td>\n",
       "      <td>1.621848</td>\n",
       "      <td>False</td>\n",
       "    </tr>\n",
       "  </tbody>\n",
       "</table>\n",
       "</div>"
      ],
      "text/plain": [
       "   id  order_id driver_id driver_action  driver_lat  driver_lng  duration_min  \\\n",
       "0   1    392001    243828      accepted    6.602207    3.270465           3.0   \n",
       "1   2    392001    243588      rejected    6.592097    3.287445           3.0   \n",
       "2   3    392001    243830      rejected    6.596133    3.281784           3.0   \n",
       "3   4    392001    243539      rejected    6.596142    3.280526           3.0   \n",
       "4   5    392001    171653      rejected    6.609232    3.288800           3.0   \n",
       "\n",
       "  holiday  origin_lat  origin_lng       date  hour  distance_diff  fulfilled  \n",
       "0   False    6.601042    3.276634 2021-07-01     9       0.694264      False  \n",
       "1   False    6.601042    3.276634 2021-07-01     9       1.551694      False  \n",
       "2   False    6.601042    3.276634 2021-07-01     9       0.786777      False  \n",
       "3   False    6.601042    3.276634 2021-07-01     9       0.692054      False  \n",
       "4   False    6.601042    3.276634 2021-07-01     9       1.621848      False  "
      ]
     },
     "execution_count": 46,
     "metadata": {},
     "output_type": "execute_result"
    }
   ],
   "source": [
    "df.head()"
   ]
  },
  {
   "cell_type": "code",
   "execution_count": 16,
   "metadata": {},
   "outputs": [],
   "source": [
    "\n",
    "def labe_encoder(df:pd.DataFrame,columns:list=None):\n",
    "    if columns == None:\n",
    "        # columns = df.select_dtypes(exclude = ['number','datetime'])\n",
    "        columns = df.select_dtypes(exclude = ['number'])\n",
    "    le = LabelEncoder()\n",
    "\n",
    "    for col in columns:\n",
    "        df[col] = le.fit_transform(df[col])\n",
    "\n",
    "    return df"
   ]
  },
  {
   "cell_type": "code",
   "execution_count": 47,
   "metadata": {},
   "outputs": [],
   "source": [
    "# df = cleaner.label_encoder(df)\n",
    "df = labe_encoder(df)\n"
   ]
  },
  {
   "cell_type": "code",
   "execution_count": 51,
   "metadata": {},
   "outputs": [],
   "source": [
    "driver_loc=df[[\"driver_lat\",\"driver_lng\"]]\n",
    "request_loc=df[[\"origin_lat\",\"origin_lng\"]]"
   ]
  },
  {
   "cell_type": "code",
   "execution_count": 52,
   "metadata": {},
   "outputs": [],
   "source": [
    "# create kmeans model/object\n",
    "kmeans = KMeans(\n",
    "    init=\"random\",\n",
    "    n_clusters=50,\n",
    "    n_init=10,\n",
    "    max_iter=300,\n",
    "    random_state=42\n",
    ")"
   ]
  },
  {
   "cell_type": "code",
   "execution_count": 54,
   "metadata": {},
   "outputs": [],
   "source": [
    "# do clustering\n",
    "kmeans.fit(driver_loc)\n",
    "# save results\n",
    "driver_labels = kmeans.labels_"
   ]
  },
  {
   "cell_type": "code",
   "execution_count": 55,
   "metadata": {},
   "outputs": [],
   "source": [
    "# do clustering\n",
    "kmeans.fit(request_loc)\n",
    "# save results\n",
    "request_labels = kmeans.labels_"
   ]
  },
  {
   "cell_type": "code",
   "execution_count": 57,
   "metadata": {},
   "outputs": [],
   "source": [
    "df[\"driver_loc\"]=driver_labels\n",
    "df[\"request_loc\"]=request_labels"
   ]
  },
  {
   "cell_type": "code",
   "execution_count": 60,
   "metadata": {},
   "outputs": [],
   "source": [
    "df.drop(columns=[\"duration_min\",\"fulfilled\",\"order_id\",\"driver\",\"id\",\"driver_lat\",\"driver_lng\",\"origin_lat\",\"origin_lng\"],inplace=True)\n",
    "df.rename(columns={\"driver_id\":\"driver\"},inplace=True)"
   ]
  },
  {
   "cell_type": "code",
   "execution_count": 72,
   "metadata": {},
   "outputs": [],
   "source": [
    "# make a copy of dataframe\n",
    "scaled_features = df.copy()\n",
    "\n",
    "col_names = ['duration_min', 'distance_diff']\n",
    "features = scaled_features[col_names]\n",
    "\n",
    "# Use scaler of choice; here Standard scaler is used\n",
    "scaler = MinMaxScaler().fit(features.values)\n",
    "features = scaler.transform(features.values)\n",
    "\n",
    "scaled_features[col_names] = features\n",
    "\n",
    "df = scaled_features.copy()"
   ]
  },
  {
   "cell_type": "code",
   "execution_count": 85,
   "metadata": {},
   "outputs": [],
   "source": [
    "\n",
    "sm = from_pandas(df)"
   ]
  },
  {
   "cell_type": "code",
   "execution_count": 120,
   "metadata": {},
   "outputs": [],
   "source": [
    "sm_enh = from_pandas(df, tabu_edges=[(\"distance_diff\",\"driver_loc\")],tabu_parent_nodes=[\"driver_action\"],tabu_child_nodes=[\"date\",\"hour\"], w_threshold=0.7)"
   ]
  },
  {
   "cell_type": "code",
   "execution_count": 121,
   "metadata": {},
   "outputs": [
    {
     "data": {
      "image/png": "[encoded data removed]",
      "text/plain": [
       "<IPython.core.display.Image object>"
      ]
     },
     "execution_count": 121,
     "metadata": {},
     "output_type": "execute_result"
    }
   ],
   "source": [
    "viz = plot_structure(\n",
    "    sm_enh,\n",
    "    graph_attributes={\"scale\": \"0.5\"},\n",
    "    all_node_attributes=NODE_STYLE.WEAK,\n",
    "    all_edge_attributes=EDGE_STYLE.WEAK,\n",
    "    prog='fdp'\n",
    ")\n",
    "Image(viz.draw(format='png'))"
   ]
  },
  {
   "cell_type": "code",
   "execution_count": 122,
   "metadata": {},
   "outputs": [],
   "source": [
    "sm_enh.add_edge(\"distance_diff\", \"driver_action\")\n",
    "sm_enh.add_edge(\"date\", \"driver_action\")\n",
    "sm_enh.add_edge(\"date\", \"holiday\")\n",
    "sm_enh.add_edge(\"hour\", \"driver_action\")\n",
    "sm_enh.add_edge(\"request_loc\", \"distance_diff\")\n",
    "sm_enh.add_edge(\"driver_loc\", \"distance_diff\")\n",
    "sm_enh.add_edge(\"distance_diff\", \"driver_action\")"
   ]
  },
  {
   "cell_type": "code",
   "execution_count": 123,
   "metadata": {},
   "outputs": [
    {
     "data": {
      "image/png": "[encoded data removed]",
      "text/plain": [
       "<IPython.core.display.Image object>"
      ]
     },
     "execution_count": 123,
     "metadata": {},
     "output_type": "execute_result"
    }
   ],
   "source": [
    "viz = plot_structure(\n",
    "    sm_enh,\n",
    "    graph_attributes={\"scale\": \"0.5\"},\n",
    "    all_node_attributes=NODE_STYLE.WEAK,\n",
    "    all_edge_attributes=EDGE_STYLE.WEAK,\n",
    "    prog='fdp'\n",
    ")\n",
    "Image(viz.draw(format='png'))"
   ]
  },
  {
   "cell_type": "code",
   "execution_count": 125,
   "metadata": {},
   "outputs": [],
   "source": [
    "# with open('../models/sm.pkl', 'wb') as structural_model:\n",
    "#   pickle.dump(sm, structural_model)"
   ]
  }
 ],
 "metadata": {
  "kernelspec": {
   "display_name": "Python 3.8.13 ('.gokada')",
   "language": "python",
   "name": "python3"
  },
  "language_info": {
   "codemirror_mode": {
    "name": "ipython",
    "version": 3
   },
   "file_extension": ".py",
   "mimetype": "text/x-python",
   "name": "python",
   "nbconvert_exporter": "python",
   "pygments_lexer": "ipython3",
   "version": "3.8.13"
  },
  "orig_nbformat": 4,
  "vscode": {
   "interpreter": {
    "hash": "bb979cb7cec24255f8a4d8dba9e2cafd70fe384035b7a94f48a84743eec67397"
   }
  }
 },
 "nbformat": 4,
 "nbformat_minor": 2
}
