{
 "cells": [
  {
   "cell_type": "code",
   "execution_count": 35,
   "metadata": {},
   "outputs": [],
   "source": [
    "import pandas as pd\n",
    "import matplotlib.pyplot as plt\n",
    "import numpy as np\n",
    "import math\n",
    "import seaborn as sns\n",
    "from datetime import datetime,timedelta\n",
    "import re\n",
    "from geopy.geocoders import Nominatim\n",
    "from geopy import distance\n",
    "import holidays\n",
    "\n",
    "import warnings\n",
    "warnings.filterwarnings(\"ignore\")"
   ]
  },
  {
   "cell_type": "code",
   "execution_count": 59,
   "metadata": {},
   "outputs": [],
   "source": [
    "complete_orders=pd.read_csv(\"../data/cleaned_complete_orders.csv\")\n",
    "delivery_requests=pd.read_csv(\"../data/driver_locations_during_request.csv\")"
   ]
  },
  {
   "cell_type": "markdown",
   "metadata": {},
   "source": [
    "delivery request information\n"
   ]
  },
  {
   "cell_type": "code",
   "execution_count": 19,
   "metadata": {},
   "outputs": [
    {
     "data": {
      "text/plain": [
       "(1557740, 8)"
      ]
     },
     "execution_count": 19,
     "metadata": {},
     "output_type": "execute_result"
    }
   ],
   "source": [
    "delivery_requests.shape"
   ]
  },
  {
   "cell_type": "code",
   "execution_count": 20,
   "metadata": {},
   "outputs": [
    {
     "name": "stdout",
     "output_type": "stream",
     "text": [
      "<class 'pandas.core.frame.DataFrame'>\n",
      "RangeIndex: 1557740 entries, 0 to 1557739\n",
      "Data columns (total 8 columns):\n",
      " #   Column         Non-Null Count    Dtype  \n",
      "---  ------         --------------    -----  \n",
      " 0   id             1557740 non-null  int64  \n",
      " 1   order_id       1557740 non-null  int64  \n",
      " 2   driver_id      1557740 non-null  int64  \n",
      " 3   driver_action  1557740 non-null  object \n",
      " 4   lat            1557740 non-null  float64\n",
      " 5   lng            1557740 non-null  float64\n",
      " 6   created_at     0 non-null        float64\n",
      " 7   updated_at     0 non-null        float64\n",
      "dtypes: float64(4), int64(3), object(1)\n",
      "memory usage: 95.1+ MB\n"
     ]
    }
   ],
   "source": [
    "delivery_requests.info()"
   ]
  },
  {
   "cell_type": "markdown",
   "metadata": {},
   "source": [
    "since we have no data for the `created_at` and `updated_at`, we can drop the columns as a whole"
   ]
  },
  {
   "cell_type": "code",
   "execution_count": 60,
   "metadata": {},
   "outputs": [
    {
     "name": "stdout",
     "output_type": "stream",
     "text": [
      "<class 'pandas.core.frame.DataFrame'>\n",
      "RangeIndex: 1557740 entries, 0 to 1557739\n",
      "Data columns (total 6 columns):\n",
      " #   Column         Non-Null Count    Dtype  \n",
      "---  ------         --------------    -----  \n",
      " 0   id             1557740 non-null  int64  \n",
      " 1   order_id       1557740 non-null  int64  \n",
      " 2   driver_id      1557740 non-null  int64  \n",
      " 3   driver_action  1557740 non-null  object \n",
      " 4   lat            1557740 non-null  float64\n",
      " 5   lng            1557740 non-null  float64\n",
      "dtypes: float64(2), int64(3), object(1)\n",
      "memory usage: 71.3+ MB\n"
     ]
    }
   ],
   "source": [
    "delivery_requests.drop(columns=[\"created_at\",\"updated_at\"],inplace=True)\n",
    "delivery_requests.info()"
   ]
  },
  {
   "cell_type": "code",
   "execution_count": 22,
   "metadata": {},
   "outputs": [
    {
     "data": {
      "text/plain": [
       "id               0\n",
       "order_id         0\n",
       "driver_id        0\n",
       "driver_action    0\n",
       "lat              0\n",
       "lng              0\n",
       "dtype: int64"
      ]
     },
     "execution_count": 22,
     "metadata": {},
     "output_type": "execute_result"
    }
   ],
   "source": [
    "# there is no missing values in our dataset\n",
    "delivery_requests.isna().sum()"
   ]
  },
  {
   "cell_type": "markdown",
   "metadata": {},
   "source": [
    "### Merge necessary records"
   ]
  },
  {
   "cell_type": "code",
   "execution_count": 23,
   "metadata": {},
   "outputs": [
    {
     "name": "stdout",
     "output_type": "stream",
     "text": [
      "<class 'pandas.core.frame.DataFrame'>\n",
      "RangeIndex: 536020 entries, 0 to 536019\n",
      "Data columns (total 8 columns):\n",
      " #   Column            Non-Null Count   Dtype  \n",
      "---  ------            --------------   -----  \n",
      " 0   trip_id           536020 non-null  int64  \n",
      " 1   trip_origin       536020 non-null  object \n",
      " 2   trip_destination  536020 non-null  object \n",
      " 3   trip_start_time   536020 non-null  object \n",
      " 4   trip_end_time     536020 non-null  object \n",
      " 5   duration_min      536020 non-null  float64\n",
      " 6   distance_km       536020 non-null  float64\n",
      " 7   holiday           536020 non-null  bool   \n",
      "dtypes: bool(1), float64(2), int64(1), object(4)\n",
      "memory usage: 29.1+ MB\n"
     ]
    }
   ],
   "source": [
    "complete_orders.info()"
   ]
  },
  {
   "cell_type": "code",
   "execution_count": 114,
   "metadata": {},
   "outputs": [
    {
     "data": {
      "image/png": "[encoded data removed]",
      "text/plain": [
       "<Figure size 640x480 with 1 Axes>"
      ]
     },
     "metadata": {},
     "output_type": "display_data"
    }
   ],
   "source": [
    "delivery_requests[\"driver_action\"].value_counts().plot(kind='bar')\n",
    "plt.title(\"drivers action\")\n",
    "plt.show()"
   ]
  },
  {
   "cell_type": "markdown",
   "metadata": {},
   "source": [
    "### Merge assemptions\n",
    "\n",
    "- we are going to merge the two datasets on `order_id` eqauls `trip_id`\n",
    "- we already have the origin location, so we are going to take only the destination location\n",
    "- only the `trip start time` has effect on drivers action, so we are going to take only the trip start time\n",
    "- we take distance in km\n",
    "- we take holiday status\n"
   ]
  },
  {
   "cell_type": "code",
   "execution_count": 64,
   "metadata": {},
   "outputs": [],
   "source": [
    "useful_info = complete_orders[[\"trip_id\",\"trip_origin\",\"trip_start_time\",\"holiday\"]]"
   ]
  },
  {
   "cell_type": "code",
   "execution_count": 66,
   "metadata": {},
   "outputs": [],
   "source": [
    "lat = useful_info[\"trip_origin\"].apply(lambda x:x.split(',')[0])\n",
    "lon = useful_info[\"trip_origin\"].apply(lambda x:x.split(',')[1])\n",
    "useful_info['origin_lat'],useful_info['origin_lng']=lat,lon\n",
    "useful_info.rename(columns={\"trip_id\":\"order_id\"},inplace=True)\n",
    "useful_info.drop(columns=\"trip_origin\",inplace=True)"
   ]
  },
  {
   "cell_type": "code",
   "execution_count": 67,
   "metadata": {},
   "outputs": [],
   "source": [
    "delivery_requests.rename(columns={\"lat\":\"driver_lat\",\"lng\":\"driver_lng\"},inplace=True)"
   ]
  },
  {
   "cell_type": "code",
   "execution_count": 105,
   "metadata": {},
   "outputs": [],
   "source": [
    "delivery_requests.to_csv(\"../data/cleaned_delivery_requests.csv\",index=False)"
   ]
  },
  {
   "cell_type": "code",
   "execution_count": 69,
   "metadata": {},
   "outputs": [],
   "source": [
    "merged_df=delivery_requests.merge(useful_info,on=\"order_id\")"
   ]
  },
  {
   "cell_type": "code",
   "execution_count": 71,
   "metadata": {},
   "outputs": [],
   "source": [
    "merged_df[\"distance_diff\"]=merged_df.apply(lambda x:distance.distance((x[\"driver_lat\"],x[\"driver_lng\"]), (x[\"origin_lat\"],x[\"origin_lng\"])).km,axis=1)"
   ]
  },
  {
   "cell_type": "code",
   "execution_count": 72,
   "metadata": {},
   "outputs": [],
   "source": [
    "merged_df=merged_df[[\"id\",\"order_id\",\"driver_id\",\"driver_lat\",\"driver_lng\",\"origin_lat\",\"origin_lng\",\"distance_diff\",\"trip_start_time\",\"holiday\",\"driver_action\"]]"
   ]
  },
  {
   "cell_type": "code",
   "execution_count": 78,
   "metadata": {},
   "outputs": [
    {
     "data": {
      "text/plain": [
       "count    1.557740e+06\n",
       "mean     1.817193e+00\n",
       "std      1.163014e+00\n",
       "min      0.000000e+00\n",
       "25%      1.105848e+00\n",
       "50%      1.713717e+00\n",
       "75%      2.430681e+00\n",
       "max      6.560726e+02\n",
       "Name: distance_diff, dtype: float64"
      ]
     },
     "execution_count": 78,
     "metadata": {},
     "output_type": "execute_result"
    }
   ],
   "source": [
    "merged_df.distance_diff.describe()"
   ]
  },
  {
   "cell_type": "code",
   "execution_count": 86,
   "metadata": {},
   "outputs": [
    {
     "name": "stdout",
     "output_type": "stream",
     "text": [
      "3574 requests were accepted by drivers within 500m while 119041 were rejected within 500m radius\n",
      "22329 requests were accepted by drivers more than 500m while 1412796 were rejected more than 500m radius\n"
     ]
    }
   ],
   "source": [
    "accept_500=merged_df[(merged_df[\"distance_diff\"]<=0.5) & (merged_df[\"driver_action\"]==\"accepted\")].shape[0]\n",
    "reject_500=merged_df[(merged_df[\"distance_diff\"]<=0.5) & (merged_df[\"driver_action\"]==\"rejected\")].shape[0]\n",
    "\n",
    "accept_more_500=merged_df[(merged_df[\"distance_diff\"]>0.5) & (merged_df[\"driver_action\"]==\"accepted\")].shape[0]\n",
    "reject_more_500=merged_df[(merged_df[\"distance_diff\"]>0.5) & (merged_df[\"driver_action\"]==\"rejected\")].shape[0]\n",
    "\n",
    "print(f\"{accept_500} requests were accepted by drivers within 500m while {reject_500} were rejected within 500m radius\")\n",
    "print(f\"{accept_more_500} requests were accepted by drivers more than 500m while {reject_more_500} were rejected more than 500m radius\")"
   ]
  },
  {
   "cell_type": "code",
   "execution_count": 87,
   "metadata": {},
   "outputs": [],
   "source": [
    "acceptance_summary=pd.DataFrame(data=[[accept_500,reject_500],[accept_more_500,reject_more_500]],columns=[\"accepted\",\"rejected\"],index=[\"with in 500m\",\"more than 500m\"])"
   ]
  },
  {
   "cell_type": "code",
   "execution_count": 103,
   "metadata": {},
   "outputs": [
    {
     "data": {
      "image/png": "[encoded data removed]",
      "text/plain": [
       "<Figure size 800x500 with 2 Axes>"
      ]
     },
     "metadata": {},
     "output_type": "display_data"
    }
   ],
   "source": [
    "acceptance_summary.plot(kind='bar',subplots=True,rot=30,figsize=(8,5))\n",
    "plt.suptitle(\"Request Acceptance summary\")\n",
    "plt.show()"
   ]
  },
  {
   "cell_type": "code",
   "execution_count": 107,
   "metadata": {},
   "outputs": [],
   "source": [
    "merged_df.to_csv(\"../data/merged_df.csv\",index=False)"
   ]
  },
  {
   "cell_type": "code",
   "execution_count": 108,
   "metadata": {},
   "outputs": [],
   "source": [
    "# merged_df.sort_values(by=\"distance_diff\",ascending=False)"
   ]
  },
  {
   "cell_type": "code",
   "execution_count": 109,
   "metadata": {},
   "outputs": [],
   "source": [
    "# useful_info.head()"
   ]
  },
  {
   "cell_type": "code",
   "execution_count": 110,
   "metadata": {},
   "outputs": [],
   "source": [
    "# delivery_requests.head()"
   ]
  }
 ],
 "metadata": {
  "kernelspec": {
   "display_name": "Python 3.10.5 ('.venv': venv)",
   "language": "python",
   "name": "python3"
  },
  "language_info": {
   "codemirror_mode": {
    "name": "ipython",
    "version": 3
   },
   "file_extension": ".py",
   "mimetype": "text/x-python",
   "name": "python",
   "nbconvert_exporter": "python",
   "pygments_lexer": "ipython3",
   "version": "3.10.5"
  },
  "orig_nbformat": 4,
  "vscode": {
   "interpreter": {
    "hash": "cf40f469ce6adfe8c9594c24faa00f428b25529a0c6fce1357b6760e93d9a597"
   }
  }
 },
 "nbformat": 4,
 "nbformat_minor": 2
}
