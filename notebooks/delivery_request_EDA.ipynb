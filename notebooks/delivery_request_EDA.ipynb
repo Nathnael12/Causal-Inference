{
 "cells": [
  {
   "cell_type": "code",
   "execution_count": 1,
   "metadata": {},
   "outputs": [],
   "source": [
    "import pandas as pd\n",
    "import matplotlib.pyplot as plt\n",
    "import numpy as np\n",
    "import math\n",
    "import seaborn as sns\n",
    "from datetime import datetime,timedelta\n",
    "import re\n",
    "from geopy.geocoders import Nominatim\n",
    "from geopy import distance\n",
    "import holidays\n",
    "\n",
    "import warnings\n",
    "warnings.filterwarnings(\"ignore\")"
   ]
  },
  {
   "cell_type": "code",
   "execution_count": 148,
   "metadata": {},
   "outputs": [],
   "source": [
    "complete_orders=pd.read_csv(\"../data/cleaned_complete_orders.csv\")\n",
    "delivery_requests=pd.read_csv(\"../data/driver_locations_during_request.csv\")"
   ]
  },
  {
   "cell_type": "markdown",
   "metadata": {},
   "source": [
    "delivery request information\n"
   ]
  },
  {
   "cell_type": "code",
   "execution_count": 19,
   "metadata": {},
   "outputs": [
    {
     "data": {
      "text/plain": [
       "(1557740, 8)"
      ]
     },
     "execution_count": 19,
     "metadata": {},
     "output_type": "execute_result"
    }
   ],
   "source": [
    "delivery_requests.shape"
   ]
  },
  {
   "cell_type": "code",
   "execution_count": 20,
   "metadata": {},
   "outputs": [
    {
     "name": "stdout",
     "output_type": "stream",
     "text": [
      "<class 'pandas.core.frame.DataFrame'>\n",
      "RangeIndex: 1557740 entries, 0 to 1557739\n",
      "Data columns (total 8 columns):\n",
      " #   Column         Non-Null Count    Dtype  \n",
      "---  ------         --------------    -----  \n",
      " 0   id             1557740 non-null  int64  \n",
      " 1   order_id       1557740 non-null  int64  \n",
      " 2   driver_id      1557740 non-null  int64  \n",
      " 3   driver_action  1557740 non-null  object \n",
      " 4   lat            1557740 non-null  float64\n",
      " 5   lng            1557740 non-null  float64\n",
      " 6   created_at     0 non-null        float64\n",
      " 7   updated_at     0 non-null        float64\n",
      "dtypes: float64(4), int64(3), object(1)\n",
      "memory usage: 95.1+ MB\n"
     ]
    }
   ],
   "source": [
    "delivery_requests.info()"
   ]
  },
  {
   "cell_type": "markdown",
   "metadata": {},
   "source": [
    "since we have no data for the `created_at` and `updated_at`, we can drop the columns as a whole"
   ]
  },
  {
   "cell_type": "code",
   "execution_count": 129,
   "metadata": {},
   "outputs": [
    {
     "name": "stdout",
     "output_type": "stream",
     "text": [
      "<class 'pandas.core.frame.DataFrame'>\n",
      "RangeIndex: 1557740 entries, 0 to 1557739\n",
      "Data columns (total 6 columns):\n",
      " #   Column         Non-Null Count    Dtype  \n",
      "---  ------         --------------    -----  \n",
      " 0   id             1557740 non-null  int64  \n",
      " 1   order_id       1557740 non-null  int64  \n",
      " 2   driver_id      1557740 non-null  int64  \n",
      " 3   driver_action  1557740 non-null  object \n",
      " 4   lat            1557740 non-null  float64\n",
      " 5   lng            1557740 non-null  float64\n",
      "dtypes: float64(2), int64(3), object(1)\n",
      "memory usage: 71.3+ MB\n"
     ]
    }
   ],
   "source": [
    "delivery_requests.drop(columns=[\"created_at\",\"updated_at\"],inplace=True)\n",
    "delivery_requests.info()"
   ]
  },
  {
   "cell_type": "code",
   "execution_count": 22,
   "metadata": {},
   "outputs": [
    {
     "data": {
      "text/plain": [
       "id               0\n",
       "order_id         0\n",
       "driver_id        0\n",
       "driver_action    0\n",
       "lat              0\n",
       "lng              0\n",
       "dtype: int64"
      ]
     },
     "execution_count": 22,
     "metadata": {},
     "output_type": "execute_result"
    }
   ],
   "source": [
    "# there is no missing values in our dataset\n",
    "delivery_requests.isna().sum()"
   ]
  },
  {
   "cell_type": "markdown",
   "metadata": {},
   "source": [
    "### Merge necessary records"
   ]
  },
  {
   "cell_type": "code",
   "execution_count": 23,
   "metadata": {},
   "outputs": [
    {
     "name": "stdout",
     "output_type": "stream",
     "text": [
      "<class 'pandas.core.frame.DataFrame'>\n",
      "RangeIndex: 536020 entries, 0 to 536019\n",
      "Data columns (total 8 columns):\n",
      " #   Column            Non-Null Count   Dtype  \n",
      "---  ------            --------------   -----  \n",
      " 0   trip_id           536020 non-null  int64  \n",
      " 1   trip_origin       536020 non-null  object \n",
      " 2   trip_destination  536020 non-null  object \n",
      " 3   trip_start_time   536020 non-null  object \n",
      " 4   trip_end_time     536020 non-null  object \n",
      " 5   duration_min      536020 non-null  float64\n",
      " 6   distance_km       536020 non-null  float64\n",
      " 7   holiday           536020 non-null  bool   \n",
      "dtypes: bool(1), float64(2), int64(1), object(4)\n",
      "memory usage: 29.1+ MB\n"
     ]
    }
   ],
   "source": [
    "complete_orders.info()"
   ]
  },
  {
   "cell_type": "code",
   "execution_count": 130,
   "metadata": {},
   "outputs": [
    {
     "data": {
      "image/png": "[encoded data removed]",
      "text/plain": [
       "<Figure size 640x480 with 1 Axes>"
      ]
     },
     "metadata": {},
     "output_type": "display_data"
    }
   ],
   "source": [
    "delivery_requests[\"driver_action\"].value_counts().plot(kind='bar')\n",
    "plt.title(\"drivers action\")\n",
    "plt.show()"
   ]
  },
  {
   "cell_type": "markdown",
   "metadata": {},
   "source": [
    "### Merge assemptions\n",
    "\n",
    "- we are going to merge the two datasets on `order_id` eqauls `trip_id`\n",
    "- we already have the origin location, so we are going to take only the destination location\n",
    "- only the `trip start time` has effect on drivers action, so we are going to take only the trip start time\n",
    "- we take distance in km\n",
    "- we take holiday status\n"
   ]
  },
  {
   "cell_type": "code",
   "execution_count": 131,
   "metadata": {},
   "outputs": [],
   "source": [
    "useful_info = complete_orders[[\"trip_id\",\"trip_origin\",\"trip_start_time\",\"holiday\"]]"
   ]
  },
  {
   "cell_type": "code",
   "execution_count": 134,
   "metadata": {},
   "outputs": [],
   "source": [
    "lat = useful_info[\"trip_origin\"].apply(lambda x:x.split(',')[0])\n",
    "lon = useful_info[\"trip_origin\"].apply(lambda x:x.split(',')[1])\n",
    "useful_info['origin_lat'],useful_info['origin_lng']=lat,lon\n",
    "useful_info.rename(columns={\"trip_id\":\"order_id\"},inplace=True)\n",
    "useful_info.drop(columns=\"trip_origin\",inplace=True)"
   ]
  },
  {
   "cell_type": "code",
   "execution_count": 136,
   "metadata": {},
   "outputs": [],
   "source": [
    "delivery_requests.rename(columns={\"lat\":\"driver_lat\",\"lng\":\"driver_lng\"},inplace=True)"
   ]
  },
  {
   "cell_type": "code",
   "execution_count": 105,
   "metadata": {},
   "outputs": [],
   "source": [
    "delivery_requests.to_csv(\"../data/cleaned_delivery_requests.csv\",index=False)"
   ]
  },
  {
   "cell_type": "code",
   "execution_count": 137,
   "metadata": {},
   "outputs": [],
   "source": [
    "merged_df=delivery_requests.merge(useful_info,on=\"order_id\")"
   ]
  },
  {
   "cell_type": "code",
   "execution_count": 218,
   "metadata": {},
   "outputs": [
    {
     "name": "stdout",
     "output_type": "stream",
     "text": [
      "536020\n",
      "26492\n"
     ]
    }
   ],
   "source": [
    "print(len(complete_orders.trip_id.unique()))\n",
    "print(len(delivery_requests.order_id.unique()))"
   ]
  },
  {
   "cell_type": "code",
   "execution_count": 145,
   "metadata": {},
   "outputs": [
    {
     "data": {
      "text/html": [
       "<div>\n",
       "<style scoped>\n",
       "    .dataframe tbody tr th:only-of-type {\n",
       "        vertical-align: middle;\n",
       "    }\n",
       "\n",
       "    .dataframe tbody tr th {\n",
       "        vertical-align: top;\n",
       "    }\n",
       "\n",
       "    .dataframe thead th {\n",
       "        text-align: right;\n",
       "    }\n",
       "</style>\n",
       "<table border=\"1\" class=\"dataframe\">\n",
       "  <thead>\n",
       "    <tr style=\"text-align: right;\">\n",
       "      <th></th>\n",
       "      <th>order_id</th>\n",
       "      <th>trip_start_time</th>\n",
       "      <th>holiday</th>\n",
       "      <th>origin_lat</th>\n",
       "      <th>origin_lng</th>\n",
       "    </tr>\n",
       "  </thead>\n",
       "  <tbody>\n",
       "    <tr>\n",
       "      <th>0</th>\n",
       "      <td>391996</td>\n",
       "      <td>2021-07-01 07:28:04</td>\n",
       "      <td>False</td>\n",
       "      <td>6.508813001668548</td>\n",
       "      <td>3.37740316890347</td>\n",
       "    </tr>\n",
       "    <tr>\n",
       "      <th>1</th>\n",
       "      <td>391997</td>\n",
       "      <td>2021-07-01 06:38:04</td>\n",
       "      <td>False</td>\n",
       "      <td>6.4316714</td>\n",
       "      <td>3.4555375</td>\n",
       "    </tr>\n",
       "    <tr>\n",
       "      <th>2</th>\n",
       "      <td>391998</td>\n",
       "      <td>2021-07-01 06:21:02</td>\n",
       "      <td>False</td>\n",
       "      <td>6.631679399999999</td>\n",
       "      <td>3.3388976</td>\n",
       "    </tr>\n",
       "    <tr>\n",
       "      <th>3</th>\n",
       "      <td>391999</td>\n",
       "      <td>2021-07-01 07:16:07</td>\n",
       "      <td>False</td>\n",
       "      <td>6.572757200000001</td>\n",
       "      <td>3.3677082</td>\n",
       "    </tr>\n",
       "    <tr>\n",
       "      <th>4</th>\n",
       "      <td>392001</td>\n",
       "      <td>2021-07-01 09:30:59</td>\n",
       "      <td>False</td>\n",
       "      <td>6.6010417</td>\n",
       "      <td>3.2766339</td>\n",
       "    </tr>\n",
       "    <tr>\n",
       "      <th>...</th>\n",
       "      <td>...</td>\n",
       "      <td>...</td>\n",
       "      <td>...</td>\n",
       "      <td>...</td>\n",
       "      <td>...</td>\n",
       "    </tr>\n",
       "    <tr>\n",
       "      <th>536015</th>\n",
       "      <td>1637696</td>\n",
       "      <td>2021-12-30 20:35:06</td>\n",
       "      <td>False</td>\n",
       "      <td>6.448218499999999</td>\n",
       "      <td>3.4772075</td>\n",
       "    </tr>\n",
       "    <tr>\n",
       "      <th>536016</th>\n",
       "      <td>1637702</td>\n",
       "      <td>2021-12-30 20:48:13</td>\n",
       "      <td>False</td>\n",
       "      <td>6.442320899999999</td>\n",
       "      <td>3.4736868</td>\n",
       "    </tr>\n",
       "    <tr>\n",
       "      <th>536017</th>\n",
       "      <td>1637704</td>\n",
       "      <td>2021-12-30 20:51:45</td>\n",
       "      <td>False</td>\n",
       "      <td>6.4281982</td>\n",
       "      <td>3.492248</td>\n",
       "    </tr>\n",
       "    <tr>\n",
       "      <th>536018</th>\n",
       "      <td>1637705</td>\n",
       "      <td>2021-12-30 20:48:50</td>\n",
       "      <td>False</td>\n",
       "      <td>6.5869296</td>\n",
       "      <td>3.3632966</td>\n",
       "    </tr>\n",
       "    <tr>\n",
       "      <th>536019</th>\n",
       "      <td>1637709</td>\n",
       "      <td>2021-12-30 20:55:38</td>\n",
       "      <td>False</td>\n",
       "      <td>6.647209999999999</td>\n",
       "      <td>3.4851489</td>\n",
       "    </tr>\n",
       "  </tbody>\n",
       "</table>\n",
       "<p>526931 rows × 5 columns</p>\n",
       "</div>"
      ],
      "text/plain": [
       "        order_id      trip_start_time  holiday         origin_lat  \\\n",
       "0         391996  2021-07-01 07:28:04    False  6.508813001668548   \n",
       "1         391997  2021-07-01 06:38:04    False          6.4316714   \n",
       "2         391998  2021-07-01 06:21:02    False  6.631679399999999   \n",
       "3         391999  2021-07-01 07:16:07    False  6.572757200000001   \n",
       "4         392001  2021-07-01 09:30:59    False          6.6010417   \n",
       "...          ...                  ...      ...                ...   \n",
       "536015   1637696  2021-12-30 20:35:06    False  6.448218499999999   \n",
       "536016   1637702  2021-12-30 20:48:13    False  6.442320899999999   \n",
       "536017   1637704  2021-12-30 20:51:45    False          6.4281982   \n",
       "536018   1637705  2021-12-30 20:48:50    False          6.5869296   \n",
       "536019   1637709  2021-12-30 20:55:38    False  6.647209999999999   \n",
       "\n",
       "              origin_lng  \n",
       "0       3.37740316890347  \n",
       "1              3.4555375  \n",
       "2              3.3388976  \n",
       "3              3.3677082  \n",
       "4              3.2766339  \n",
       "...                  ...  \n",
       "536015         3.4772075  \n",
       "536016         3.4736868  \n",
       "536017          3.492248  \n",
       "536018         3.3632966  \n",
       "536019         3.4851489  \n",
       "\n",
       "[526931 rows x 5 columns]"
      ]
     },
     "execution_count": 145,
     "metadata": {},
     "output_type": "execute_result"
    }
   ],
   "source": [
    "useful_info[useful_info[\"holiday\"]==False]\n"
   ]
  },
  {
   "cell_type": "code",
   "execution_count": 71,
   "metadata": {},
   "outputs": [],
   "source": [
    "merged_df[\"distance_diff\"]=merged_df.apply(lambda x:distance.distance((x[\"driver_lat\"],x[\"driver_lng\"]), (x[\"origin_lat\"],x[\"origin_lng\"])).km,axis=1)"
   ]
  },
  {
   "cell_type": "code",
   "execution_count": 72,
   "metadata": {},
   "outputs": [],
   "source": [
    "merged_df=merged_df[[\"id\",\"order_id\",\"driver_id\",\"driver_lat\",\"driver_lng\",\"origin_lat\",\"origin_lng\",\"distance_diff\",\"trip_start_time\",\"holiday\",\"driver_action\"]]"
   ]
  },
  {
   "cell_type": "code",
   "execution_count": 78,
   "metadata": {},
   "outputs": [
    {
     "data": {
      "text/plain": [
       "count    1.557740e+06\n",
       "mean     1.817193e+00\n",
       "std      1.163014e+00\n",
       "min      0.000000e+00\n",
       "25%      1.105848e+00\n",
       "50%      1.713717e+00\n",
       "75%      2.430681e+00\n",
       "max      6.560726e+02\n",
       "Name: distance_diff, dtype: float64"
      ]
     },
     "execution_count": 78,
     "metadata": {},
     "output_type": "execute_result"
    }
   ],
   "source": [
    "merged_df.distance_diff.describe()"
   ]
  },
  {
   "cell_type": "code",
   "execution_count": 86,
   "metadata": {},
   "outputs": [
    {
     "name": "stdout",
     "output_type": "stream",
     "text": [
      "3574 requests were accepted by drivers within 500m while 119041 were rejected within 500m radius\n",
      "22329 requests were accepted by drivers more than 500m while 1412796 were rejected more than 500m radius\n"
     ]
    }
   ],
   "source": [
    "accept_500=merged_df[(merged_df[\"distance_diff\"]<=0.5) & (merged_df[\"driver_action\"]==\"accepted\")].shape[0]\n",
    "reject_500=merged_df[(merged_df[\"distance_diff\"]<=0.5) & (merged_df[\"driver_action\"]==\"rejected\")].shape[0]\n",
    "\n",
    "accept_more_500=merged_df[(merged_df[\"distance_diff\"]>0.5) & (merged_df[\"driver_action\"]==\"accepted\")].shape[0]\n",
    "reject_more_500=merged_df[(merged_df[\"distance_diff\"]>0.5) & (merged_df[\"driver_action\"]==\"rejected\")].shape[0]\n",
    "\n",
    "print(f\"{accept_500} requests were accepted by drivers within 500m while {reject_500} were rejected within 500m radius\")\n",
    "print(f\"{accept_more_500} requests were accepted by drivers more than 500m while {reject_more_500} were rejected more than 500m radius\")"
   ]
  },
  {
   "cell_type": "code",
   "execution_count": 87,
   "metadata": {},
   "outputs": [],
   "source": [
    "acceptance_summary=pd.DataFrame(data=[[accept_500,reject_500],[accept_more_500,reject_more_500]],columns=[\"accepted\",\"rejected\"],index=[\"with in 500m\",\"more than 500m\"])"
   ]
  },
  {
   "cell_type": "code",
   "execution_count": 103,
   "metadata": {},
   "outputs": [
    {
     "data": {
      "image/png": "[encoded data removed]",
      "text/plain": [
       "<Figure size 800x500 with 2 Axes>"
      ]
     },
     "metadata": {},
     "output_type": "display_data"
    }
   ],
   "source": [
    "acceptance_summary.plot(kind='bar',subplots=True,rot=30,figsize=(8,5))\n",
    "plt.suptitle(\"Request Acceptance summary\")\n",
    "plt.show()"
   ]
  },
  {
   "cell_type": "code",
   "execution_count": 16,
   "metadata": {},
   "outputs": [],
   "source": [
    "# add is weekend feature\n",
    "merged_df[\"weekend\"]=merged_df[\"trip_start_time\"].apply(lambda x: 4 < pd.to_datetime(x).weekday() < 7)"
   ]
  },
  {
   "cell_type": "code",
   "execution_count": 17,
   "metadata": {},
   "outputs": [],
   "source": [
    "merged_df.to_csv(\"../data/merged_df.csv\",index=False)"
   ]
  },
  {
   "cell_type": "code",
   "execution_count": 2,
   "metadata": {},
   "outputs": [],
   "source": [
    "# you can start from here by loading the merged dataframe\n",
    "merged_df=pd.read_csv(\"../data/merged_df.csv\")"
   ]
  },
  {
   "cell_type": "code",
   "execution_count": 57,
   "metadata": {},
   "outputs": [
    {
     "data": {
      "text/html": [
       "<div>\n",
       "<style scoped>\n",
       "    .dataframe tbody tr th:only-of-type {\n",
       "        vertical-align: middle;\n",
       "    }\n",
       "\n",
       "    .dataframe tbody tr th {\n",
       "        vertical-align: top;\n",
       "    }\n",
       "\n",
       "    .dataframe thead th {\n",
       "        text-align: right;\n",
       "    }\n",
       "</style>\n",
       "<table border=\"1\" class=\"dataframe\">\n",
       "  <thead>\n",
       "    <tr style=\"text-align: right;\">\n",
       "      <th></th>\n",
       "      <th>driver_action</th>\n",
       "      <th>weekend</th>\n",
       "      <th>size</th>\n",
       "    </tr>\n",
       "  </thead>\n",
       "  <tbody>\n",
       "    <tr>\n",
       "      <th>0</th>\n",
       "      <td>accepted</td>\n",
       "      <td>False</td>\n",
       "      <td>22160</td>\n",
       "    </tr>\n",
       "    <tr>\n",
       "      <th>1</th>\n",
       "      <td>accepted</td>\n",
       "      <td>True</td>\n",
       "      <td>3743</td>\n",
       "    </tr>\n",
       "    <tr>\n",
       "      <th>2</th>\n",
       "      <td>rejected</td>\n",
       "      <td>False</td>\n",
       "      <td>1335362</td>\n",
       "    </tr>\n",
       "    <tr>\n",
       "      <th>3</th>\n",
       "      <td>rejected</td>\n",
       "      <td>True</td>\n",
       "      <td>196475</td>\n",
       "    </tr>\n",
       "  </tbody>\n",
       "</table>\n",
       "</div>"
      ],
      "text/plain": [
       "  driver_action  weekend     size\n",
       "0      accepted    False    22160\n",
       "1      accepted     True     3743\n",
       "2      rejected    False  1335362\n",
       "3      rejected     True   196475"
      ]
     },
     "execution_count": 57,
     "metadata": {},
     "output_type": "execute_result"
    }
   ],
   "source": [
    "merged_df.groupby([\"driver_action\",\"weekend\"],as_index=False).size()#agg({\"driver_action\":\"count\",\"holiday\":\"count\"})"
   ]
  },
  {
   "cell_type": "code",
   "execution_count": 55,
   "metadata": {},
   "outputs": [
    {
     "data": {
      "text/html": [
       "<div>\n",
       "<style scoped>\n",
       "    .dataframe tbody tr th:only-of-type {\n",
       "        vertical-align: middle;\n",
       "    }\n",
       "\n",
       "    .dataframe tbody tr th {\n",
       "        vertical-align: top;\n",
       "    }\n",
       "\n",
       "    .dataframe thead th {\n",
       "        text-align: right;\n",
       "    }\n",
       "</style>\n",
       "<table border=\"1\" class=\"dataframe\">\n",
       "  <thead>\n",
       "    <tr style=\"text-align: right;\">\n",
       "      <th></th>\n",
       "      <th>id</th>\n",
       "      <th>order_id</th>\n",
       "      <th>driver_id</th>\n",
       "      <th>driver_lat</th>\n",
       "      <th>driver_lng</th>\n",
       "      <th>origin_lat</th>\n",
       "      <th>origin_lng</th>\n",
       "      <th>distance_diff</th>\n",
       "      <th>trip_start_time</th>\n",
       "      <th>holiday</th>\n",
       "      <th>driver_action</th>\n",
       "      <th>weekend</th>\n",
       "    </tr>\n",
       "  </thead>\n",
       "  <tbody>\n",
       "  </tbody>\n",
       "</table>\n",
       "</div>"
      ],
      "text/plain": [
       "Empty DataFrame\n",
       "Columns: [id, order_id, driver_id, driver_lat, driver_lng, origin_lat, origin_lng, distance_diff, trip_start_time, holiday, driver_action, weekend]\n",
       "Index: []"
      ]
     },
     "execution_count": 55,
     "metadata": {},
     "output_type": "execute_result"
    }
   ],
   "source": [
    "merged_df[merged_df[\"holiday\"]==True]\n"
   ]
  },
  {
   "cell_type": "code",
   "execution_count": 94,
   "metadata": {},
   "outputs": [
    {
     "data": {
      "image/png": "[encoded data removed]",
      "text/plain": [
       "<Figure size 1000x400 with 2 Axes>"
      ]
     },
     "metadata": {},
     "output_type": "display_data"
    }
   ],
   "source": [
    "# since we don't have a record with holiday == True, we don't need to include it in aggregate\n",
    "# plt.figure(figsize=(8,5))\n",
    "fig,ax=plt.subplots(1,2,figsize=(10,4))\n",
    "\n",
    "data=merged_df.groupby([\"driver_action\",\"weekend\"],as_index=False).size()\n",
    "\n",
    "plt.subplot(1,2,1,title=\"Counts\")\n",
    "sns.barplot( x=\"driver_action\", y=\"size\", hue = 'weekend', data = data)\n",
    "plt.ylabel(\"Counts\")\n",
    "\n",
    "plt.subplot(1,2,2,title=\"Counts (logarithm value)\")\n",
    "sns.barplot( x=\"driver_action\", y=\"size\", hue = 'weekend', data = data,log=True)\n",
    "plt.ylabel(\"Counts\")\n",
    "\n",
    "plt.show()"
   ]
  },
  {
   "cell_type": "code",
   "execution_count": 52,
   "metadata": {},
   "outputs": [],
   "source": [
    "# merged_df.head()"
   ]
  },
  {
   "cell_type": "code",
   "execution_count": 109,
   "metadata": {},
   "outputs": [],
   "source": [
    "# useful_info.head()"
   ]
  },
  {
   "cell_type": "code",
   "execution_count": 110,
   "metadata": {},
   "outputs": [],
   "source": [
    "# delivery_requests.head()"
   ]
  }
 ],
 "metadata": {
  "kernelspec": {
   "display_name": "Python 3.10.5 ('.venv': venv)",
   "language": "python",
   "name": "python3"
  },
  "language_info": {
   "codemirror_mode": {
    "name": "ipython",
    "version": 3
   },
   "file_extension": ".py",
   "mimetype": "text/x-python",
   "name": "python",
   "nbconvert_exporter": "python",
   "pygments_lexer": "ipython3",
   "version": "3.10.5"
  },
  "orig_nbformat": 4,
  "vscode": {
   "interpreter": {
    "hash": "cf40f469ce6adfe8c9594c24faa00f428b25529a0c6fce1357b6760e93d9a597"
   }
  }
 },
 "nbformat": 4,
 "nbformat_minor": 2
}
